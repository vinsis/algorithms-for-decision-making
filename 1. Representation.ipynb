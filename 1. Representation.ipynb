{
 "cells": [
  {
   "cell_type": "markdown",
   "metadata": {},
   "source": [
    "> The _support_ of a distribution is the set of values that are assigned non-zero density\n",
    "\n",
    "> From a joint distribution, we can compute a __marginal distribution__ of a variable or a set of variables by summing out all other variables:\n",
    "\n",
    "$$P(x) = \\sum_y P(x,y)$$\n",
    "\n",
    "> We can represent joint distributions in terms of factors. A factor `φ` over a set of\n",
    "`n` variables is a function from assignments of those variables to the real numbers."
   ]
  },
  {
   "cell_type": "markdown",
   "metadata": {},
   "source": [
    "### Definition of variables, assignments and factors\n",
    "\n",
    "> A variable is given a name and takes values from `1` to `m`"
   ]
  },
  {
   "cell_type": "code",
   "execution_count": 1,
   "metadata": {},
   "outputs": [],
   "source": [
    "struct Variable\n",
    "    name::Symbol\n",
    "    m::Int # number of possible values\n",
    "end"
   ]
  },
  {
   "cell_type": "code",
   "execution_count": 2,
   "metadata": {},
   "outputs": [
    {
     "data": {
      "text/plain": [
       "Variable(:x, 5)"
      ]
     },
     "execution_count": 2,
     "metadata": {},
     "output_type": "execute_result"
    }
   ],
   "source": [
    "Variable(:x, 5)"
   ]
  },
  {
   "cell_type": "code",
   "execution_count": 3,
   "metadata": {},
   "outputs": [],
   "source": [
    "const Assignment = Dict{Symbol, Int}\n",
    "const FactorTable = Dict{Assignment, Float64}\n",
    "\n",
    "struct Factor\n",
    "    vars::Vector{Variable}\n",
    "    table::FactorTable\n",
    "end"
   ]
  },
  {
   "cell_type": "markdown",
   "metadata": {},
   "source": [
    "We want to make it easy to assign variables. We would like to do something like so (but it fails now):"
   ]
  },
  {
   "cell_type": "code",
   "execution_count": 4,
   "metadata": {},
   "outputs": [
    {
     "ename": "LoadError",
     "evalue": "BoundsError: attempt to access Int64 at index [2]",
     "output_type": "error",
     "traceback": [
      "BoundsError: attempt to access Int64 at index [2]",
      "",
      "Stacktrace:",
      " [1] indexed_iterate(I::Int64, i::Int64, state::Nothing)",
      "   @ Base ./tuple.jl:95",
      " [2] Dict{Symbol, Int64}(kv::NamedTuple{(:x, :y), Tuple{Int64, Int64}})",
      "   @ Base ./dict.jl:103",
      " [3] top-level scope",
      "   @ In[4]:1",
      " [4] eval",
      "   @ ./boot.jl:360 [inlined]",
      " [5] include_string(mapexpr::typeof(REPL.softscope), mod::Module, code::String, filename::String)",
      "   @ Base ./loading.jl:1094"
     ]
    }
   ],
   "source": [
    "Assignment((x=1, y=2))"
   ]
  },
  {
   "cell_type": "markdown",
   "metadata": {},
   "source": [
    "### Some utility functions for conversion"
   ]
  },
  {
   "cell_type": "code",
   "execution_count": 5,
   "metadata": {},
   "outputs": [],
   "source": [
    "Base.Dict{Symbol, V}(a::NamedTuple) where V = \n",
    "    Dict{Symbol, V}( k=>v for (k,v) in zip(keys(a), values(a)) )"
   ]
  },
  {
   "cell_type": "code",
   "execution_count": 6,
   "metadata": {},
   "outputs": [
    {
     "data": {
      "text/plain": [
       "Dict{Symbol, Int64} with 2 entries:\n",
       "  :y => 2\n",
       "  :x => 1"
      ]
     },
     "execution_count": 6,
     "metadata": {},
     "output_type": "execute_result"
    }
   ],
   "source": [
    "Assignment((x=1, y=2))"
   ]
  },
  {
   "cell_type": "code",
   "execution_count": 7,
   "metadata": {},
   "outputs": [
    {
     "data": {
      "text/plain": [
       "Dict{Symbol, String} with 2 entries:\n",
       "  :y => \"world\"\n",
       "  :x => \"hello\""
      ]
     },
     "execution_count": 7,
     "metadata": {},
     "output_type": "execute_result"
    }
   ],
   "source": [
    "Dict{Symbol, String}((x=\"hello\", y=\"world\"))"
   ]
  },
  {
   "cell_type": "code",
   "execution_count": 8,
   "metadata": {},
   "outputs": [],
   "source": [
    "Base.convert(::Type{Dict{Symbol, V}}, a::NamedTuple) where V = \n",
    "    Dict{Symbol, V}(a)"
   ]
  },
  {
   "cell_type": "code",
   "execution_count": 9,
   "metadata": {},
   "outputs": [
    {
     "data": {
      "text/plain": [
       "Dict{Symbol, Int64} with 1 entry:\n",
       "  :x => 1"
      ]
     },
     "execution_count": 9,
     "metadata": {},
     "output_type": "execute_result"
    }
   ],
   "source": [
    "convert(Assignment, (x=1,))"
   ]
  },
  {
   "cell_type": "code",
   "execution_count": 10,
   "metadata": {},
   "outputs": [],
   "source": [
    "Base.isequal(a::Dict{Symbol, V}, b::NamedTuple) where V = \n",
    "    length(a) == length(b) &&\n",
    "    all(a[k] == v for (k,v) in zip(keys(b), values(b)))"
   ]
  },
  {
   "cell_type": "code",
   "execution_count": 11,
   "metadata": {},
   "outputs": [
    {
     "data": {
      "text/plain": [
       "(true, false, false)"
      ]
     },
     "execution_count": 11,
     "metadata": {},
     "output_type": "execute_result"
    }
   ],
   "source": [
    "a = Assignment((a=1,b=2,c=3))\n",
    "\n",
    "isequal(a, (a=1,c=3,b=2)), isequal(a, (a=1,c=2,b=2)), isequal(a, (a=1,c=3,b=2,d=4))"
   ]
  },
  {
   "cell_type": "markdown",
   "metadata": {},
   "source": [
    "### Now let's define a `Factor`"
   ]
  },
  {
   "cell_type": "code",
   "execution_count": 12,
   "metadata": {},
   "outputs": [
    {
     "data": {
      "text/plain": [
       "Factor(Variable[Variable(:x, 2), Variable(:y, 2), Variable(:z, 2)], Dict(Dict(:y => 1, :z => 1, :x => 1) => 0.08, Dict(:y => 1, :z => 1, :x => 2) => 0.01, Dict(:y => 1, :z => 2, :x => 1) => 0.31, Dict(:y => 2, :z => 2, :x => 1) => 0.37, Dict(:y => 2, :z => 1, :x => 2) => 0.02, Dict(:y => 1, :z => 2, :x => 2) => 0.05, Dict(:y => 2, :z => 2, :x => 2) => 0.07, Dict(:y => 2, :z => 1, :x => 1) => 0.09))"
      ]
     },
     "execution_count": 12,
     "metadata": {},
     "output_type": "execute_result"
    }
   ],
   "source": [
    "X = Variable(:x, 2)\n",
    "Y = Variable(:y, 2)\n",
    "Z = Variable(:z, 2)\n",
    "\n",
    "table = FactorTable(\n",
    "    (x=1, y=1, z=1) => 0.08,\n",
    "    (x=1, y=1, z=2) => 0.31,\n",
    "    (x=1, y=2, z=1) => 0.09,\n",
    "    (x=1, y=2, z=2) => 0.37,\n",
    "    (x=2, y=1, z=1) => 0.01,\n",
    "    (x=2, y=1, z=2) => 0.05,\n",
    "    (x=2, y=2, z=1) => 0.02,\n",
    "    (x=2, y=2, z=2) => 0.07\n",
    ")\n",
    "\n",
    "ϕ = Factor([X,Y,Z], table)"
   ]
  },
  {
   "cell_type": "markdown",
   "metadata": {},
   "source": [
    "#### Get variable names from a given factor"
   ]
  },
  {
   "cell_type": "code",
   "execution_count": 13,
   "metadata": {},
   "outputs": [
    {
     "data": {
      "text/plain": [
       "3-element Vector{Symbol}:\n",
       " :x\n",
       " :y\n",
       " :z"
      ]
     },
     "execution_count": 13,
     "metadata": {},
     "output_type": "execute_result"
    }
   ],
   "source": [
    "variablenames(ϕ::Factor) = [var.name for var in ϕ.vars]\n",
    "\n",
    "variablenames(ϕ)"
   ]
  },
  {
   "cell_type": "markdown",
   "metadata": {},
   "source": [
    "#### Filter variables from an assignment"
   ]
  },
  {
   "cell_type": "code",
   "execution_count": 14,
   "metadata": {},
   "outputs": [
    {
     "data": {
      "text/plain": [
       "select (generic function with 1 method)"
      ]
     },
     "execution_count": 14,
     "metadata": {},
     "output_type": "execute_result"
    }
   ],
   "source": [
    "select(a::Assignment, varnames::Vector{Symbol}) = \n",
    "    Assignment( n => a[n] for n in varnames )"
   ]
  },
  {
   "cell_type": "markdown",
   "metadata": {},
   "source": [
    "### We also import `product` from `Base.Iterators` to enumerate all possible assignments given a list of variables"
   ]
  },
  {
   "cell_type": "code",
   "execution_count": 15,
   "metadata": {},
   "outputs": [],
   "source": [
    "import Base.Iterators: product"
   ]
  },
  {
   "cell_type": "code",
   "execution_count": 16,
   "metadata": {},
   "outputs": [
    {
     "data": {
      "text/plain": [
       "3×2 Matrix{Tuple{Int64, Int64}}:\n",
       " (1, 1)  (1, 2)\n",
       " (2, 1)  (2, 2)\n",
       " (3, 1)  (3, 2)"
      ]
     },
     "execution_count": 16,
     "metadata": {},
     "output_type": "execute_result"
    }
   ],
   "source": [
    "collect(product(1:3, 1:2))"
   ]
  },
  {
   "cell_type": "code",
   "execution_count": 17,
   "metadata": {},
   "outputs": [
    {
     "data": {
      "text/plain": [
       "3×2 Matrix{Tuple{Int64, Int64}}:\n",
       " (1, 1)  (1, 2)\n",
       " (2, 1)  (2, 2)\n",
       " (3, 1)  (3, 2)"
      ]
     },
     "execution_count": 17,
     "metadata": {},
     "output_type": "execute_result"
    }
   ],
   "source": [
    "collect(product(1:3, 1:2))"
   ]
  },
  {
   "cell_type": "code",
   "execution_count": 18,
   "metadata": {},
   "outputs": [
    {
     "data": {
      "text/plain": [
       "assignments (generic function with 1 method)"
      ]
     },
     "execution_count": 18,
     "metadata": {},
     "output_type": "execute_result"
    }
   ],
   "source": [
    "function assignments(vars::AbstractVector{Variable})\n",
    "    names = [var.name for var in vars]\n",
    "    matrix_of_assignments = \n",
    "        [Assignment(name => value for (name,value) in zip(names, p)) \n",
    "            for p in product((1:var.m for var in vars)...)]\n",
    "    vec(matrix_of_assignments)\n",
    "end"
   ]
  },
  {
   "cell_type": "code",
   "execution_count": 19,
   "metadata": {},
   "outputs": [
    {
     "data": {
      "text/plain": [
       "24-element Vector{Dict{Symbol, Int64}}:\n",
       " Dict(:y => 1, :z => 1, :x => 1)\n",
       " Dict(:y => 1, :z => 1, :x => 2)\n",
       " Dict(:y => 1, :z => 1, :x => 3)\n",
       " Dict(:y => 2, :z => 1, :x => 1)\n",
       " Dict(:y => 2, :z => 1, :x => 2)\n",
       " Dict(:y => 2, :z => 1, :x => 3)\n",
       " Dict(:y => 1, :z => 2, :x => 1)\n",
       " Dict(:y => 1, :z => 2, :x => 2)\n",
       " Dict(:y => 1, :z => 2, :x => 3)\n",
       " Dict(:y => 2, :z => 2, :x => 1)\n",
       " Dict(:y => 2, :z => 2, :x => 2)\n",
       " Dict(:y => 2, :z => 2, :x => 3)\n",
       " Dict(:y => 1, :z => 3, :x => 1)\n",
       " Dict(:y => 1, :z => 3, :x => 2)\n",
       " Dict(:y => 1, :z => 3, :x => 3)\n",
       " Dict(:y => 2, :z => 3, :x => 1)\n",
       " Dict(:y => 2, :z => 3, :x => 2)\n",
       " Dict(:y => 2, :z => 3, :x => 3)\n",
       " Dict(:y => 1, :z => 4, :x => 1)\n",
       " Dict(:y => 1, :z => 4, :x => 2)\n",
       " Dict(:y => 1, :z => 4, :x => 3)\n",
       " Dict(:y => 2, :z => 4, :x => 1)\n",
       " Dict(:y => 2, :z => 4, :x => 2)\n",
       " Dict(:y => 2, :z => 4, :x => 3)"
      ]
     },
     "execution_count": 19,
     "metadata": {},
     "output_type": "execute_result"
    }
   ],
   "source": [
    "assignments([Variable(:x,3), Variable(:y,2), Variable(:z,4)])"
   ]
  },
  {
   "cell_type": "markdown",
   "metadata": {},
   "source": [
    "#### Normalize "
   ]
  },
  {
   "cell_type": "code",
   "execution_count": 20,
   "metadata": {},
   "outputs": [
    {
     "data": {
      "text/plain": [
       "normalize! (generic function with 1 method)"
      ]
     },
     "execution_count": 20,
     "metadata": {},
     "output_type": "execute_result"
    }
   ],
   "source": [
    "function normalize!(ϕ::Factor)\n",
    "    z = sum(p for (a,p) in ϕ.table)\n",
    "    for (a,p) in ϕ.table\n",
    "        ϕ.table[a] = p/z\n",
    "    end\n",
    "    ϕ\n",
    "end"
   ]
  },
  {
   "cell_type": "code",
   "execution_count": 21,
   "metadata": {},
   "outputs": [
    {
     "data": {
      "text/plain": [
       "Factor(Variable[Variable(:x, 2), Variable(:y, 2), Variable(:z, 2)], Dict(Dict(:y => 1, :z => 1, :x => 1) => 0.07999999999999999, Dict(:y => 1, :z => 1, :x => 2) => 0.009999999999999998, Dict(:y => 1, :z => 2, :x => 1) => 0.30999999999999994, Dict(:y => 2, :z => 2, :x => 1) => 0.36999999999999994, Dict(:y => 2, :z => 1, :x => 2) => 0.019999999999999997, Dict(:y => 1, :z => 2, :x => 2) => 0.04999999999999999, Dict(:y => 2, :z => 2, :x => 2) => 0.06999999999999999, Dict(:y => 2, :z => 1, :x => 1) => 0.08999999999999998))"
      ]
     },
     "execution_count": 21,
     "metadata": {},
     "output_type": "execute_result"
    }
   ],
   "source": [
    "normalize!(ϕ)"
   ]
  },
  {
   "cell_type": "code",
   "execution_count": 22,
   "metadata": {},
   "outputs": [
    {
     "data": {
      "text/plain": [
       "0.9999999999999998"
      ]
     },
     "execution_count": 22,
     "metadata": {},
     "output_type": "execute_result"
    }
   ],
   "source": [
    "sum(p for (a,p) in ϕ.table)"
   ]
  },
  {
   "cell_type": "markdown",
   "metadata": {},
   "source": [
    "#### _Discrete conditional models_\n",
    "\n",
    "> A conditional probability distribution over discrete variables can be represented using a table.\n",
    "\n",
    "\n",
    "#### _Conditional Gaussian models_\n",
    "\n",
    "> A conditional Gaussian model can be used to represent a distribution over a con- tinuous variable given one or more discrete variables.\n",
    "\n",
    "#### _Linear Gaussian models_\n",
    "\n",
    "> $P(X|Y)$ is a distribution over $X$ with the mean being a linear function of continuous variable $Y$. The conditional density function is:\n",
    "\n",
    "$$p(x|y) = N(x | my+b, \\sigma)$$\n",
    "\n",
    "with parameters $\\theta = [m, b, \\sigma]$\n",
    "\n",
    "#### _Conditinal Linear Gaussian models_\n",
    "\n",
    "> combines conditional Gaussian and linear Gaussian models: $P(X|Y,Z)$ where $Y$ is continuous and $Z$ is discrete.\n",
    "\n",
    "#### _Sigmoid models_\n",
    "\n",
    "> One way to represent a soft threshold is to use a logit model, which produces a sigmoid curve:\n",
    "\n",
    "$$P(x^1|y) = \\frac{1}{1 + exp({-2\\frac{y-\\theta_1}{\\theta_2}})}$$"
   ]
  },
  {
   "cell_type": "markdown",
   "metadata": {},
   "source": [
    "### Bayesian networks\n",
    "\n",
    "> The structure of a Bayesian network is defined by a directed acyclic graph consisting of nodes and directed edges.\n",
    "\n",
    "> Associated with each node $X$ is a conditional distribution $P(X_i | Pa(X_i))$, where $Pa(X_i)$ represents the parents of $X_i$ in the graph."
   ]
  },
  {
   "cell_type": "code",
   "execution_count": 23,
   "metadata": {},
   "outputs": [
    {
     "name": "stderr",
     "output_type": "stream",
     "text": [
      "\u001b[32m\u001b[1m    Updating\u001b[22m\u001b[39m registry at `~/.julia/registries/General`\n",
      "\u001b[32m\u001b[1m    Updating\u001b[22m\u001b[39m git-repo `https://github.com/JuliaRegistries/General.git`\n",
      "\u001b[32m\u001b[1m   Resolving\u001b[22m\u001b[39m package versions...\n",
      "\u001b[32m\u001b[1m  No Changes\u001b[22m\u001b[39m to `~/.julia/environments/v1.6/Project.toml`\n",
      "\u001b[32m\u001b[1m  No Changes\u001b[22m\u001b[39m to `~/.julia/environments/v1.6/Manifest.toml`\n"
     ]
    }
   ],
   "source": [
    "using Pkg;\n",
    "Pkg.add(\"LightGraphs\")"
   ]
  },
  {
   "cell_type": "code",
   "execution_count": 24,
   "metadata": {},
   "outputs": [],
   "source": [
    "using LightGraphs"
   ]
  },
  {
   "cell_type": "code",
   "execution_count": 25,
   "metadata": {},
   "outputs": [
    {
     "name": "stdout",
     "output_type": "stream",
     "text": [
      "search: \u001b[0m\u001b[1mS\u001b[22m\u001b[0m\u001b[1mi\u001b[22m\u001b[0m\u001b[1mm\u001b[22m\u001b[0m\u001b[1mp\u001b[22m\u001b[0m\u001b[1ml\u001b[22m\u001b[0m\u001b[1me\u001b[22m\u001b[0m\u001b[1mD\u001b[22m\u001b[0m\u001b[1mi\u001b[22m\u001b[0m\u001b[1mG\u001b[22m\u001b[0m\u001b[1mr\u001b[22m\u001b[0m\u001b[1ma\u001b[22m\u001b[0m\u001b[1mp\u001b[22m\u001b[0m\u001b[1mh\u001b[22m \u001b[0m\u001b[1mS\u001b[22m\u001b[0m\u001b[1mi\u001b[22m\u001b[0m\u001b[1mm\u001b[22m\u001b[0m\u001b[1mp\u001b[22m\u001b[0m\u001b[1ml\u001b[22m\u001b[0m\u001b[1me\u001b[22m\u001b[0m\u001b[1mD\u001b[22m\u001b[0m\u001b[1mi\u001b[22m\u001b[0m\u001b[1mG\u001b[22m\u001b[0m\u001b[1mr\u001b[22m\u001b[0m\u001b[1ma\u001b[22m\u001b[0m\u001b[1mp\u001b[22m\u001b[0m\u001b[1mh\u001b[22mFromIterator\n",
      "\n"
     ]
    },
    {
     "data": {
      "text/latex": [
       "\\begin{verbatim}\n",
       "SimpleDiGraph{T}\n",
       "\\end{verbatim}\n",
       "A type representing a directed graph.\n",
       "\n",
       "\\rule{\\textwidth}{1pt}\n",
       "\\begin{verbatim}\n",
       "SimpleDiGraph{T}(n=0)\n",
       "\\end{verbatim}\n",
       "Construct a \\texttt{SimpleDiGraph\\{T\\}} with \\texttt{n} vertices and 0 edges. If not specified, the element type \\texttt{T} is the type of \\texttt{n}.\n",
       "\n",
       "\\subsection{Examples}\n",
       "\\begin{verbatim}\n",
       "julia> SimpleDiGraph(UInt8(10))\n",
       "{10, 0} directed simple UInt8 graph\n",
       "\\end{verbatim}\n",
       "\\rule{\\textwidth}{1pt}\n",
       "\\begin{verbatim}\n",
       "SimpleDiGraph(::Type{T})\n",
       "\\end{verbatim}\n",
       "Construct an empty \\texttt{SimpleDiGraph\\{T\\}} with 0 vertices and 0 edges.\n",
       "\n",
       "\\subsection{Examples}\n",
       "\\begin{verbatim}\n",
       "julia> SimpleDiGraph(UInt8)\n",
       "{0, 0} directed simple UInt8 graph\n",
       "\\end{verbatim}\n",
       "\\rule{\\textwidth}{1pt}\n",
       "\\begin{verbatim}\n",
       "SimpleDiGraph{T}(adjm::AbstractMatrix)\n",
       "\\end{verbatim}\n",
       "Construct a \\texttt{SimpleDiGraph\\{T\\}} from the adjacency matrix \\texttt{adjm}. If \\texttt{adjm[i][j] != 0}, an edge \\texttt{(i, j)} is inserted. \\texttt{adjm} must be a square matrix. The element type \\texttt{T} can be omitted.\n",
       "\n",
       "\\subsection{Examples}\n",
       "\\begin{verbatim}\n",
       "julia> A1 = [false true; false false]\n",
       "julia> SimpleDiGraph(A1)\n",
       "{2, 1} directed simple Int64 graph\n",
       "\n",
       "julia> A2 = [2 7; 5 0]\n",
       "julia> SimpleDiGraph{Int16}(A2)\n",
       "{2, 3} directed simple Int16 graph\n",
       "\\end{verbatim}\n",
       "\\rule{\\textwidth}{1pt}\n",
       "\\begin{verbatim}\n",
       "SimpleDiGraph{T}(g::SimpleDiGraph)\n",
       "\\end{verbatim}\n",
       "Construct a copy of g. If the element type \\texttt{T} is specified, the vertices of \\texttt{g} are converted to this type. Otherwise the element type is the same as for \\texttt{g}.\n",
       "\n",
       "\\subsection{Examples}\n",
       "\\begin{verbatim}\n",
       "julia> g = complete_digraph(5)\n",
       "julia> SimpleDiGraph{UInt8}(g)\n",
       "{5, 20} directed simple UInt8 graph\n",
       "\\end{verbatim}\n",
       "\\rule{\\textwidth}{1pt}\n",
       "\\begin{verbatim}\n",
       "SimpleDiGraph(g::AbstractSimpleGraph)\n",
       "\\end{verbatim}\n",
       "Construct an directed \\texttt{SimpleDiGraph} from a graph \\texttt{g}. The element type is the same as for \\texttt{g}.\n",
       "\n",
       "\\subsection{Examples}\n",
       "\\begin{verbatim}\n",
       "julia> g = path_graph(Int8(5))\n",
       "julia> SimpleDiGraph(g)\n",
       "{5, 8} directed simple Int8 graph\n",
       "\\end{verbatim}\n",
       "\\rule{\\textwidth}{1pt}\n",
       "\\begin{verbatim}\n",
       "SimpleDiGraph(edge_list::Vector)\n",
       "\\end{verbatim}\n",
       "Construct a \\texttt{SimpleDiGraph} from a vector of edges. The element type is taken from the edges in \\texttt{edge\\_list}. The number of vertices is the highest that is used in an edge in \\texttt{edge\\_list}.\n",
       "\n",
       "\\subsubsection{Implementation Notes}\n",
       "This constructor works the fastest when \\texttt{edge\\_list} is sorted by the lexical ordering and does not contain any duplicates.\n",
       "\n",
       "\\subsubsection{See also}\n",
       "\\href{@ref}{\\texttt{SimpleDiGraphFromIterator}}\n",
       "\n",
       "\\subsection{Examples}\n",
       "\\begin{verbatim}\n",
       "\n",
       "julia> el = Edge.([ (1, 3), (1, 5), (3, 1) ])\n",
       "julia> SimpleDiGraph(el)\n",
       "{5, 3} directed simple Int64 graph\n",
       "\\end{verbatim}\n",
       "\\rule{\\textwidth}{1pt}\n",
       "\\begin{verbatim}\n",
       "SimpleDiGraph{T}(nv, ne; seed=-1)\n",
       "\\end{verbatim}\n",
       "Construct a random \\texttt{SimpleDiGraph\\{T\\}} with \\texttt{nv} vertices and \\texttt{ne} edges. The graph is sampled uniformly from all such graphs. If \\texttt{seed >= 0}, a random generator is seeded with this value. If not specified, the element type \\texttt{T} is the type of \\texttt{nv}.\n",
       "\n",
       "\\subsubsection{See also}\n",
       "\\href{@ref}{\\texttt{erdos\\_renyi}}\n",
       "\n",
       "\\subsection{Examples}\n",
       "\\begin{verbatim}\n",
       "julia> SimpleDiGraph(5, 7)\n",
       "{5, 7} directed simple Int64 graph\n",
       "\\end{verbatim}\n"
      ],
      "text/markdown": [
       "```\n",
       "SimpleDiGraph{T}\n",
       "```\n",
       "\n",
       "A type representing a directed graph.\n",
       "\n",
       "---\n",
       "\n",
       "```\n",
       "SimpleDiGraph{T}(n=0)\n",
       "```\n",
       "\n",
       "Construct a `SimpleDiGraph{T}` with `n` vertices and 0 edges. If not specified, the element type `T` is the type of `n`.\n",
       "\n",
       "## Examples\n",
       "\n",
       "```jldoctest\n",
       "julia> SimpleDiGraph(UInt8(10))\n",
       "{10, 0} directed simple UInt8 graph\n",
       "```\n",
       "\n",
       "---\n",
       "\n",
       "```\n",
       "SimpleDiGraph(::Type{T})\n",
       "```\n",
       "\n",
       "Construct an empty `SimpleDiGraph{T}` with 0 vertices and 0 edges.\n",
       "\n",
       "## Examples\n",
       "\n",
       "```jldoctest\n",
       "julia> SimpleDiGraph(UInt8)\n",
       "{0, 0} directed simple UInt8 graph\n",
       "```\n",
       "\n",
       "---\n",
       "\n",
       "```\n",
       "SimpleDiGraph{T}(adjm::AbstractMatrix)\n",
       "```\n",
       "\n",
       "Construct a `SimpleDiGraph{T}` from the adjacency matrix `adjm`. If `adjm[i][j] != 0`, an edge `(i, j)` is inserted. `adjm` must be a square matrix. The element type `T` can be omitted.\n",
       "\n",
       "## Examples\n",
       "\n",
       "```jldoctest\n",
       "julia> A1 = [false true; false false]\n",
       "julia> SimpleDiGraph(A1)\n",
       "{2, 1} directed simple Int64 graph\n",
       "\n",
       "julia> A2 = [2 7; 5 0]\n",
       "julia> SimpleDiGraph{Int16}(A2)\n",
       "{2, 3} directed simple Int16 graph\n",
       "```\n",
       "\n",
       "---\n",
       "\n",
       "```\n",
       "SimpleDiGraph{T}(g::SimpleDiGraph)\n",
       "```\n",
       "\n",
       "Construct a copy of g. If the element type `T` is specified, the vertices of `g` are converted to this type. Otherwise the element type is the same as for `g`.\n",
       "\n",
       "## Examples\n",
       "\n",
       "```jldoctest\n",
       "julia> g = complete_digraph(5)\n",
       "julia> SimpleDiGraph{UInt8}(g)\n",
       "{5, 20} directed simple UInt8 graph\n",
       "```\n",
       "\n",
       "---\n",
       "\n",
       "```\n",
       "SimpleDiGraph(g::AbstractSimpleGraph)\n",
       "```\n",
       "\n",
       "Construct an directed `SimpleDiGraph` from a graph `g`. The element type is the same as for `g`.\n",
       "\n",
       "## Examples\n",
       "\n",
       "```jldoctest\n",
       "julia> g = path_graph(Int8(5))\n",
       "julia> SimpleDiGraph(g)\n",
       "{5, 8} directed simple Int8 graph\n",
       "```\n",
       "\n",
       "---\n",
       "\n",
       "```\n",
       "SimpleDiGraph(edge_list::Vector)\n",
       "```\n",
       "\n",
       "Construct a `SimpleDiGraph` from a vector of edges. The element type is taken from the edges in `edge_list`. The number of vertices is the highest that is used in an edge in `edge_list`.\n",
       "\n",
       "### Implementation Notes\n",
       "\n",
       "This constructor works the fastest when `edge_list` is sorted by the lexical ordering and does not contain any duplicates.\n",
       "\n",
       "### See also\n",
       "\n",
       "[`SimpleDiGraphFromIterator`](@ref)\n",
       "\n",
       "## Examples\n",
       "\n",
       "```jldoctest\n",
       "\n",
       "julia> el = Edge.([ (1, 3), (1, 5), (3, 1) ])\n",
       "julia> SimpleDiGraph(el)\n",
       "{5, 3} directed simple Int64 graph\n",
       "```\n",
       "\n",
       "---\n",
       "\n",
       "```\n",
       "SimpleDiGraph{T}(nv, ne; seed=-1)\n",
       "```\n",
       "\n",
       "Construct a random `SimpleDiGraph{T}` with `nv` vertices and `ne` edges. The graph is sampled uniformly from all such graphs. If `seed >= 0`, a random generator is seeded with this value. If not specified, the element type `T` is the type of `nv`.\n",
       "\n",
       "### See also\n",
       "\n",
       "[`erdos_renyi`](@ref)\n",
       "\n",
       "## Examples\n",
       "\n",
       "```jldoctest\n",
       "julia> SimpleDiGraph(5, 7)\n",
       "{5, 7} directed simple Int64 graph\n",
       "```\n"
      ],
      "text/plain": [
       "\u001b[36m  SimpleDiGraph{T}\u001b[39m\n",
       "\n",
       "  A type representing a directed graph.\n",
       "\n",
       "  ────────────────────────────────────────────────────────────────────────────\n",
       "\n",
       "\u001b[36m  SimpleDiGraph{T}(n=0)\u001b[39m\n",
       "\n",
       "  Construct a \u001b[36mSimpleDiGraph{T}\u001b[39m with \u001b[36mn\u001b[39m vertices and 0 edges. If not specified,\n",
       "  the element type \u001b[36mT\u001b[39m is the type of \u001b[36mn\u001b[39m.\n",
       "\n",
       "\u001b[1m  Examples\u001b[22m\n",
       "\u001b[1m  ==========\u001b[22m\n",
       "\n",
       "\u001b[36m  julia> SimpleDiGraph(UInt8(10))\u001b[39m\n",
       "\u001b[36m  {10, 0} directed simple UInt8 graph\u001b[39m\n",
       "\n",
       "  ────────────────────────────────────────────────────────────────────────────\n",
       "\n",
       "\u001b[36m  SimpleDiGraph(::Type{T})\u001b[39m\n",
       "\n",
       "  Construct an empty \u001b[36mSimpleDiGraph{T}\u001b[39m with 0 vertices and 0 edges.\n",
       "\n",
       "\u001b[1m  Examples\u001b[22m\n",
       "\u001b[1m  ==========\u001b[22m\n",
       "\n",
       "\u001b[36m  julia> SimpleDiGraph(UInt8)\u001b[39m\n",
       "\u001b[36m  {0, 0} directed simple UInt8 graph\u001b[39m\n",
       "\n",
       "  ────────────────────────────────────────────────────────────────────────────\n",
       "\n",
       "\u001b[36m  SimpleDiGraph{T}(adjm::AbstractMatrix)\u001b[39m\n",
       "\n",
       "  Construct a \u001b[36mSimpleDiGraph{T}\u001b[39m from the adjacency matrix \u001b[36madjm\u001b[39m. If \u001b[36madjm[i][j]\n",
       "  != 0\u001b[39m, an edge \u001b[36m(i, j)\u001b[39m is inserted. \u001b[36madjm\u001b[39m must be a square matrix. The element\n",
       "  type \u001b[36mT\u001b[39m can be omitted.\n",
       "\n",
       "\u001b[1m  Examples\u001b[22m\n",
       "\u001b[1m  ==========\u001b[22m\n",
       "\n",
       "\u001b[36m  julia> A1 = [false true; false false]\u001b[39m\n",
       "\u001b[36m  julia> SimpleDiGraph(A1)\u001b[39m\n",
       "\u001b[36m  {2, 1} directed simple Int64 graph\u001b[39m\n",
       "\u001b[36m  \u001b[39m\n",
       "\u001b[36m  julia> A2 = [2 7; 5 0]\u001b[39m\n",
       "\u001b[36m  julia> SimpleDiGraph{Int16}(A2)\u001b[39m\n",
       "\u001b[36m  {2, 3} directed simple Int16 graph\u001b[39m\n",
       "\n",
       "  ────────────────────────────────────────────────────────────────────────────\n",
       "\n",
       "\u001b[36m  SimpleDiGraph{T}(g::SimpleDiGraph)\u001b[39m\n",
       "\n",
       "  Construct a copy of g. If the element type \u001b[36mT\u001b[39m is specified, the vertices of \u001b[36mg\u001b[39m\n",
       "  are converted to this type. Otherwise the element type is the same as for \u001b[36mg\u001b[39m.\n",
       "\n",
       "\u001b[1m  Examples\u001b[22m\n",
       "\u001b[1m  ==========\u001b[22m\n",
       "\n",
       "\u001b[36m  julia> g = complete_digraph(5)\u001b[39m\n",
       "\u001b[36m  julia> SimpleDiGraph{UInt8}(g)\u001b[39m\n",
       "\u001b[36m  {5, 20} directed simple UInt8 graph\u001b[39m\n",
       "\n",
       "  ────────────────────────────────────────────────────────────────────────────\n",
       "\n",
       "\u001b[36m  SimpleDiGraph(g::AbstractSimpleGraph)\u001b[39m\n",
       "\n",
       "  Construct an directed \u001b[36mSimpleDiGraph\u001b[39m from a graph \u001b[36mg\u001b[39m. The element type is the\n",
       "  same as for \u001b[36mg\u001b[39m.\n",
       "\n",
       "\u001b[1m  Examples\u001b[22m\n",
       "\u001b[1m  ==========\u001b[22m\n",
       "\n",
       "\u001b[36m  julia> g = path_graph(Int8(5))\u001b[39m\n",
       "\u001b[36m  julia> SimpleDiGraph(g)\u001b[39m\n",
       "\u001b[36m  {5, 8} directed simple Int8 graph\u001b[39m\n",
       "\n",
       "  ────────────────────────────────────────────────────────────────────────────\n",
       "\n",
       "\u001b[36m  SimpleDiGraph(edge_list::Vector)\u001b[39m\n",
       "\n",
       "  Construct a \u001b[36mSimpleDiGraph\u001b[39m from a vector of edges. The element type is taken\n",
       "  from the edges in \u001b[36medge_list\u001b[39m. The number of vertices is the highest that is\n",
       "  used in an edge in \u001b[36medge_list\u001b[39m.\n",
       "\n",
       "\u001b[1m  Implementation Notes\u001b[22m\n",
       "\u001b[1m  ––––––––––––––––––––––\u001b[22m\n",
       "\n",
       "  This constructor works the fastest when \u001b[36medge_list\u001b[39m is sorted by the lexical\n",
       "  ordering and does not contain any duplicates.\n",
       "\n",
       "\u001b[1m  See also\u001b[22m\n",
       "\u001b[1m  ––––––––––\u001b[22m\n",
       "\n",
       "  \u001b[36mSimpleDiGraphFromIterator\u001b[39m\n",
       "\n",
       "\u001b[1m  Examples\u001b[22m\n",
       "\u001b[1m  ==========\u001b[22m\n",
       "\n",
       "\u001b[36m  \u001b[39m\n",
       "\u001b[36m  julia> el = Edge.([ (1, 3), (1, 5), (3, 1) ])\u001b[39m\n",
       "\u001b[36m  julia> SimpleDiGraph(el)\u001b[39m\n",
       "\u001b[36m  {5, 3} directed simple Int64 graph\u001b[39m\n",
       "\n",
       "  ────────────────────────────────────────────────────────────────────────────\n",
       "\n",
       "\u001b[36m  SimpleDiGraph{T}(nv, ne; seed=-1)\u001b[39m\n",
       "\n",
       "  Construct a random \u001b[36mSimpleDiGraph{T}\u001b[39m with \u001b[36mnv\u001b[39m vertices and \u001b[36mne\u001b[39m edges. The graph\n",
       "  is sampled uniformly from all such graphs. If \u001b[36mseed >= 0\u001b[39m, a random generator\n",
       "  is seeded with this value. If not specified, the element type \u001b[36mT\u001b[39m is the type\n",
       "  of \u001b[36mnv\u001b[39m.\n",
       "\n",
       "\u001b[1m  See also\u001b[22m\n",
       "\u001b[1m  ––––––––––\u001b[22m\n",
       "\n",
       "  \u001b[36merdos_renyi\u001b[39m\n",
       "\n",
       "\u001b[1m  Examples\u001b[22m\n",
       "\u001b[1m  ==========\u001b[22m\n",
       "\n",
       "\u001b[36m  julia> SimpleDiGraph(5, 7)\u001b[39m\n",
       "\u001b[36m  {5, 7} directed simple Int64 graph\u001b[39m"
      ]
     },
     "execution_count": 25,
     "metadata": {},
     "output_type": "execute_result"
    }
   ],
   "source": [
    "?SimpleDiGraph"
   ]
  },
  {
   "cell_type": "code",
   "execution_count": 26,
   "metadata": {},
   "outputs": [],
   "source": [
    "struct BayesianNetwork\n",
    "    vars::Vector{Variable}\n",
    "    factors::Vector{Factor}\n",
    "    graph::SimpleDiGraph{Int64}\n",
    "end"
   ]
  },
  {
   "cell_type": "markdown",
   "metadata": {},
   "source": [
    "### Application of Bayesian networks to a satellite-monitoring problem\n",
    "\n",
    "We are given five variables:\n",
    "1. `B` battery failure\n",
    "2. `S` solar panel failure\n",
    "3. `E` electrical system failure \n",
    "4. `D` trajectory deviation\n",
    "5. `C` communication loss\n",
    "\n",
    "> Associated with each of the five variables are five conditional probability distributions.\n",
    "\n",
    "![](assets/ex_2.5.png)\n",
    "\n",
    "> Because `B` and `S` do not have any parents, we only need to specify `P(B)` and `P(S)`. \n",
    "\n",
    "The code below creates a Bayesian network structure with example values for the elements of the associated factor tables.\n",
    "\n",
    "`(e=2,b=1,s=1)` corresponds to $(e^1, b^0, s^0)$"
   ]
  },
  {
   "cell_type": "code",
   "execution_count": 27,
   "metadata": {},
   "outputs": [
    {
     "data": {
      "text/plain": [
       "Factor(Variable[Variable(:c, 2), Variable(:e, 2)], Dict(Dict(:e => 2, :c => 1) => 0.01, Dict(:e => 2, :c => 2) => 0.99, Dict(:e => 1, :c => 2) => 0.02, Dict(:e => 1, :c => 1) => 0.98))"
      ]
     },
     "execution_count": 27,
     "metadata": {},
     "output_type": "execute_result"
    }
   ],
   "source": [
    "B = Variable(:b, 2)\n",
    "S = Variable(:s, 2)\n",
    "E = Variable(:e, 2)\n",
    "D = Variable(:d, 2)\n",
    "C = Variable(:c, 2)\n",
    "\n",
    "vars = [B,S,E,D,C]\n",
    "\n",
    "factorB = Factor([B], FactorTable((b=1,)=>0.99, (b=2,)=>0.01))\n",
    "factorS = Factor([S], FactorTable((s=1,)=>0.98, (s=2,)=>0.02))\n",
    "factorE = Factor([B,S,E], FactorTable(\n",
    "        (e=1,b=1,s=1) => 0.90,\n",
    "        (e=1,b=1,s=2) => 0.04,\n",
    "        (e=1,b=2,s=1) => 0.05,\n",
    "        (e=1,b=2,s=2) => 0.01,\n",
    "        (e=2,b=1,s=1) => 0.10,\n",
    "        (e=2,b=1,s=2) => 0.96,\n",
    "        (e=2,b=2,s=1) => 0.95,\n",
    "        (e=2,b=2,s=2) => 0.99,\n",
    "        ))\n",
    "factorD = Factor([D,E], FactorTable(\n",
    "        (d=1,e=1) => 0.96,\n",
    "        (d=1,e=2) => 0.03,\n",
    "        (d=2,e=1) => 0.04,\n",
    "        (d=2,e=2) => 0.97,\n",
    "        ))\n",
    "factorC = Factor([C,E], FactorTable(\n",
    "        (c=1,e=1) => 0.98,\n",
    "        (c=1,e=2) => 0.01,\n",
    "        (c=2,e=1) => 0.02,\n",
    "        (c=2,e=2) => 0.99,\n",
    "        ))"
   ]
  },
  {
   "cell_type": "code",
   "execution_count": 28,
   "metadata": {},
   "outputs": [
    {
     "data": {
      "text/plain": [
       "{5, 0} directed simple Int64 graph"
      ]
     },
     "execution_count": 28,
     "metadata": {},
     "output_type": "execute_result"
    }
   ],
   "source": [
    "graph = SimpleDiGraph(5)"
   ]
  },
  {
   "cell_type": "code",
   "execution_count": 29,
   "metadata": {},
   "outputs": [
    {
     "data": {
      "text/plain": [
       "BayesianNetwork(Variable[Variable(:b, 2), Variable(:s, 2), Variable(:e, 2), Variable(:d, 2), Variable(:c, 2)], Factor[Factor(Variable[Variable(:b, 2)], Dict(Dict(:b => 2) => 0.01, Dict(:b => 1) => 0.99)), Factor(Variable[Variable(:s, 2)], Dict(Dict(:s => 1) => 0.98, Dict(:s => 2) => 0.02)), Factor(Variable[Variable(:b, 2), Variable(:s, 2), Variable(:e, 2)], Dict(Dict(:b => 1, :s => 1, :e => 2) => 0.1, Dict(:b => 2, :s => 2, :e => 2) => 0.99, Dict(:b => 1, :s => 2, :e => 1) => 0.04, Dict(:b => 1, :s => 1, :e => 1) => 0.9, Dict(:b => 2, :s => 1, :e => 2) => 0.95, Dict(:b => 2, :s => 2, :e => 1) => 0.01, Dict(:b => 2, :s => 1, :e => 1) => 0.05, Dict(:b => 1, :s => 2, :e => 2) => 0.96)), Factor(Variable[Variable(:d, 2), Variable(:e, 2)], Dict(Dict(:d => 2, :e => 1) => 0.04, Dict(:d => 2, :e => 2) => 0.97, Dict(:d => 1, :e => 1) => 0.96, Dict(:d => 1, :e => 2) => 0.03)), Factor(Variable[Variable(:c, 2), Variable(:e, 2)], Dict(Dict(:e => 2, :c => 1) => 0.01, Dict(:e => 2, :c => 2) => 0.99, Dict(:e => 1, :c => 2) => 0.02, Dict(:e => 1, :c => 1) => 0.98))], {5, 4} directed simple Int64 graph)"
      ]
     },
     "execution_count": 29,
     "metadata": {},
     "output_type": "execute_result"
    }
   ],
   "source": [
    "add_edge!(graph, 1, 3)\n",
    "add_edge!(graph, 2, 3)\n",
    "add_edge!(graph, 3, 4)\n",
    "add_edge!(graph, 3, 5)\n",
    "\n",
    "bn = BayesianNetwork(vars, [factorB, factorS, factorE, factorD, factorC], graph)"
   ]
  },
  {
   "cell_type": "markdown",
   "metadata": {},
   "source": [
    "> The chain rule for Bayesian networks specifies how to construct a joint distribution from the local conditional probability distributions.\n",
    "\n",
    "$$P(x_{1:n}) = \\prod_{i=1}^n P(x_i | parents(x_i))$$"
   ]
  },
  {
   "cell_type": "code",
   "execution_count": 30,
   "metadata": {},
   "outputs": [
    {
     "data": {
      "text/plain": [
       "probability (generic function with 1 method)"
      ]
     },
     "execution_count": 30,
     "metadata": {},
     "output_type": "execute_result"
    }
   ],
   "source": [
    "function probability(bn::BayesianNetwork, assignment::Assignment)\n",
    "    subassignment(ϕ) = select(assignment, variablenames(ϕ))\n",
    "    probability(ϕ) = get(ϕ.table, subassignment(ϕ), 0.0)\n",
    "    prod(probability(ϕ) for ϕ in bn.factors)\n",
    "end"
   ]
  },
  {
   "cell_type": "code",
   "execution_count": 31,
   "metadata": {},
   "outputs": [
    {
     "data": {
      "text/plain": [
       "0.034228655999999996"
      ]
     },
     "execution_count": 31,
     "metadata": {},
     "output_type": "execute_result"
    }
   ],
   "source": [
    "assignment = Assignment((b=1,s=1,e=1,d=2,c=1))\n",
    "probability(bn, assignment)"
   ]
  },
  {
   "cell_type": "markdown",
   "metadata": {},
   "source": [
    "An `assignment` should assign values to all variables. Thus it gives the joint probability of __ALL__ the variables:"
   ]
  },
  {
   "cell_type": "code",
   "execution_count": 32,
   "metadata": {},
   "outputs": [
    {
     "ename": "LoadError",
     "evalue": "KeyError: key :d not found",
     "output_type": "error",
     "traceback": [
      "KeyError: key :d not found",
      "",
      "Stacktrace:",
      "  [1] getindex",
      "    @ ./dict.jl:482 [inlined]",
      "  [2] #7",
      "    @ ./none:0 [inlined]",
      "  [3] iterate",
      "    @ ./generator.jl:47 [inlined]",
      "  [4] Dict{Symbol, Int64}(kv::Base.Generator{Vector{Symbol}, var\"#7#8\"{Dict{Symbol, Int64}}})",
      "    @ Base ./dict.jl:103",
      "  [5] select",
      "    @ ./In[14]:1 [inlined]",
      "  [6] (::var\"#subassignment#21\"{Dict{Symbol, Int64}})(ϕ::Factor)",
      "    @ Main ./In[30]:2",
      "  [7] probability",
      "    @ ./In[30]:3 [inlined]",
      "  [8] MappingRF",
      "    @ ./reduce.jl:93 [inlined]",
      "  [9] _foldl_impl(op::Base.MappingRF{var\"#probability#22\"{var\"#subassignment#21\"{Dict{Symbol, Int64}}}, Base.BottomRF{typeof(Base.mul_prod)}}, init::Base._InitialValue, itr::Vector{Factor})",
      "    @ Base ./reduce.jl:62",
      " [10] foldl_impl",
      "    @ ./reduce.jl:48 [inlined]",
      " [11] mapfoldl_impl",
      "    @ ./reduce.jl:44 [inlined]",
      " [12] #mapfoldl#214",
      "    @ ./reduce.jl:160 [inlined]",
      " [13] mapfoldl",
      "    @ ./reduce.jl:160 [inlined]",
      " [14] #mapreduce#218",
      "    @ ./reduce.jl:287 [inlined]",
      " [15] mapreduce",
      "    @ ./reduce.jl:287 [inlined]",
      " [16] #prod#225",
      "    @ ./reduce.jl:582 [inlined]",
      " [17] prod",
      "    @ ./reduce.jl:582 [inlined]",
      " [18] probability(bn::BayesianNetwork, assignment::Dict{Symbol, Int64})",
      "    @ Main ./In[30]:4",
      " [19] top-level scope",
      "    @ In[32]:2",
      " [20] eval",
      "    @ ./boot.jl:360 [inlined]",
      " [21] include_string(mapexpr::typeof(REPL.softscope), mod::Module, code::String, filename::String)",
      "    @ Base ./loading.jl:1094"
     ]
    }
   ],
   "source": [
    "assignment = Assignment((b=1,s=1,e=1))\n",
    "probability(bn, assignment)"
   ]
  },
  {
   "cell_type": "markdown",
   "metadata": {},
   "source": [
    "### Conditional independence\n",
    "\n",
    "$P(X,Y|Z) = P(X|Z).P(Y|Z)$, represented by $(X \\perp Y|Z)$\n",
    "\n",
    "> A path between $A$ and $B$ is _d-separated_ by $C$ if any of the following is true ($C$ is a set of evidence variables):\n",
    "\n",
    "1. The path contains a chain of nodes $X \\rightarrow Y \\rightarrow Z$ such that $Y$ is in $C$\n",
    "2. The path contains a fork $X \\leftarrow Y \\rightarrow Z$ such that $Y$ is in $C$\n",
    "3. The path contains an inverted fork $X \\rightarrow Y \\leftarrow Z$ such that $Y$ is __NOT__ in $C$ and __no descendent of $Y$__ is in $C$\n",
    "\n",
    "We say that $A$ and $B$ are _d-separated_ by $C$ if all paths between $A$ and $B$ are _d-separated_ by $C$. This _d-separation_ implies that $(A ⊥ B|C)$"
   ]
  },
  {
   "cell_type": "code",
   "execution_count": null,
   "metadata": {},
   "outputs": [],
   "source": []
  }
 ],
 "metadata": {
  "@webio": {
   "lastCommId": null,
   "lastKernelId": null
  },
  "kernelspec": {
   "display_name": "Julia 1.6.0",
   "language": "julia",
   "name": "julia-1.6"
  },
  "language_info": {
   "file_extension": ".jl",
   "mimetype": "application/julia",
   "name": "julia",
   "version": "1.6.0"
  }
 },
 "nbformat": 4,
 "nbformat_minor": 4
}
