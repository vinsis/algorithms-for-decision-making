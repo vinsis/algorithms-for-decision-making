{
 "cells": [
  {
   "cell_type": "markdown",
   "metadata": {},
   "source": [
    "# Inference in Bayesian networks\n",
    "\n",
    "We can implement exact inference using factors. Recall that factors represent discrete multivariate distributions. We use the following three operations on factors to achieve this:\n",
    "\n",
    "#### 1. Factor product\n",
    "We use the factor product to combine two factors to produce a larger factor whose scope is the combined scope of the input factors. If we have $φ(X, Y)$ and $ψ(Y, Z)$, then $φ · ψ$ will be over $X$, $Y$, and $Z$ with $(φ · ψ)(x, y, z) = φ(x, y)ψ(y, z)$. \n",
    "\n",
    "#### 2. Factor marginalization\n",
    "We use factor marginalization to sum out a particular variable from the entire factor table, removing it from the resulting scope.\n",
    "\n",
    "#### 3. Factor conditioning\n",
    "We use factor conditioning with respect to some evidence to remove any rows in the table inconsistent with that evidence."
   ]
  },
  {
   "cell_type": "markdown",
   "metadata": {},
   "source": [
    "### Let's implement the code from last notebook (`1. Representations`) so we can reuse it"
   ]
  },
  {
   "cell_type": "code",
   "execution_count": 1,
   "metadata": {},
   "outputs": [
    {
     "data": {
      "text/plain": [
       "select (generic function with 1 method)"
      ]
     },
     "execution_count": 1,
     "metadata": {},
     "output_type": "execute_result"
    }
   ],
   "source": [
    "struct Variable\n",
    "    name::Symbol\n",
    "    m::Int\n",
    "end\n",
    "\n",
    "const Assignment = Dict{Symbol, Int}\n",
    "const FactorTable = Dict{Assignment, Float64}\n",
    "\n",
    "struct Factor\n",
    "    vars::Vector{Variable}\n",
    "    table::FactorTable\n",
    "end\n",
    "\n",
    "Base.Dict{Symbol, T}(a::NamedTuple) where T = \n",
    "    Dict{Symbol, T}( k=>v for (k,v) in zip(keys(a), values(a)) )\n",
    "\n",
    "Base.convert(::Type{Dict{Symbol, T}}, a::NamedTuple) where T = \n",
    "    Dict{Symbol, T}(a)\n",
    "\n",
    "Base.isequal(a::Dict{Symbol, T}, b::NamedTuple) where T = \n",
    "    length(a) == length(b) &&\n",
    "    all(a[k] == v for (k,v) in zip(keys(b), values(b)))\n",
    "\n",
    "variablenames(ϕ::Factor) = [var.name for var in ϕ.vars]\n",
    "\n",
    "select(a::Assignment, varnames::Vector{Symbol}) = \n",
    "    Assignment( n => a[n] for n in varnames )"
   ]
  },
  {
   "cell_type": "code",
   "execution_count": 2,
   "metadata": {},
   "outputs": [
    {
     "data": {
      "text/plain": [
       "assignments (generic function with 1 method)"
      ]
     },
     "execution_count": 2,
     "metadata": {},
     "output_type": "execute_result"
    }
   ],
   "source": [
    "import Base.Iterators: product\n",
    "\n",
    "function assignments(vars::AbstractVector{Variable})\n",
    "    names = [var.name for var in vars]\n",
    "    matrix_of_assignments = [Assignment(name => p for (name, p) in zip(names, p)) \n",
    "        for p in product((1:var.m for var in vars)...)]\n",
    "    vec(matrix_of_assignments)\n",
    "end"
   ]
  },
  {
   "cell_type": "code",
   "execution_count": 3,
   "metadata": {},
   "outputs": [],
   "source": [
    "using LightGraphs\n",
    "\n",
    "function normalize!(ϕ::Factor)\n",
    "    z = sum(p for (a,p) in ϕ.table)\n",
    "    for (a,p) in ϕ.table\n",
    "        ϕ.table[a] = p/z\n",
    "    end\n",
    "    ϕ\n",
    "end\n",
    "\n",
    "struct BayesianNetwork\n",
    "    vars::Vector{Variable}\n",
    "    factors::Vector{Factor}\n",
    "    graph::SimpleDiGraph{Int64}\n",
    "end"
   ]
  },
  {
   "cell_type": "code",
   "execution_count": 27,
   "metadata": {},
   "outputs": [],
   "source": [
    "# ?merge"
   ]
  },
  {
   "cell_type": "markdown",
   "metadata": {},
   "source": [
    "### 1. Factor product"
   ]
  },
  {
   "cell_type": "code",
   "execution_count": 5,
   "metadata": {},
   "outputs": [],
   "source": [
    "function Base.:*(ϕ::Factor, ψ::Factor)\n",
    "    ϕ_names = variablenames(ϕ)\n",
    "    ψ_names = variablenames(ψ)\n",
    "    ψ_only = setdiff(ψ.vars, ϕ.vars)\n",
    "    final_table = FactorTable()\n",
    "    for (ϕ_assignment, ϕ_prob) in ϕ.table\n",
    "        for ψ_only_assignment in assignments(ψ_only)\n",
    "            complete_assignment = merge(ϕ_assignment, ψ_only_assignment)\n",
    "            ψ_assignment = select(complete_assignment, ψ_names)\n",
    "            final_table[complete_assignment] = ϕ_prob * get(ψ.table, ψ_assignment, 0.0)\n",
    "        end\n",
    "    end\n",
    "    vars = vcat(ϕ.vars, ψ_only)\n",
    "    Factor(vars, final_table)\n",
    "end"
   ]
  },
  {
   "cell_type": "markdown",
   "metadata": {},
   "source": [
    "### 2. Factor marginalization"
   ]
  },
  {
   "cell_type": "code",
   "execution_count": 6,
   "metadata": {},
   "outputs": [
    {
     "data": {
      "text/plain": [
       "marginalize (generic function with 1 method)"
      ]
     },
     "execution_count": 6,
     "metadata": {},
     "output_type": "execute_result"
    }
   ],
   "source": [
    "function marginalize(ϕ::Factor, name::Symbol)\n",
    "    final_table = FactorTable()\n",
    "    for (assignment, prob) in ϕ.table\n",
    "        assignment_without_name = delete!(copy(assignment), name)\n",
    "        final_table[assignment_without_name] = get(final_table, assignment_without_name, 0.0) + prob\n",
    "    end\n",
    "    final_variables = filter(v -> v.name != name, ϕ.vars)\n",
    "    Factor(final_variables, final_table)\n",
    "end"
   ]
  },
  {
   "cell_type": "markdown",
   "metadata": {},
   "source": [
    "### 3. Factor conditioning\n",
    "\n",
    "Two methods for factor conditioning given some evidence. \n",
    "\n",
    "i) The first takes a factor $φ$ and returns a new factor whose table entries are consistent with the variable named `name` having value `value`. \n",
    "\n",
    "ii) The second takes a factor $φ$ and applies evidence in the form of a named tuple. The `in_scope` method returns `true` if a variable named `name` is within the scope of the factor $φ$."
   ]
  },
  {
   "cell_type": "code",
   "execution_count": 62,
   "metadata": {},
   "outputs": [
    {
     "data": {
      "text/plain": [
       "condition (generic function with 2 methods)"
      ]
     },
     "execution_count": 62,
     "metadata": {},
     "output_type": "execute_result"
    }
   ],
   "source": [
    "in_scope(name::Symbol, ϕ::Factor) = any(name == v.name for v in ϕ.vars)\n",
    "\n",
    "function condition(ϕ::Factor, name::Symbol, value)\n",
    "    if !in_scope(name, ϕ)\n",
    "        return ϕ\n",
    "    end\n",
    "    final_table = FactorTable()\n",
    "    for (assignment, prob) in ϕ.table\n",
    "        if assignment[name] == value\n",
    "            final_table[delete!(copy(assignment), name)] = prob\n",
    "        end\n",
    "    end\n",
    "    final_variables = filter(v -> v.name != name, ϕ.vars)\n",
    "    Factor(final_variables, final_table)\n",
    "end\n",
    "\n",
    "function condition(ϕ::Factor, evidence)\n",
    "    for (name, value) in pairs(evidence)\n",
    "        ϕ = condition(ϕ, name, value)\n",
    "    end\n",
    "    ϕ\n",
    "end"
   ]
  },
  {
   "cell_type": "code",
   "execution_count": 28,
   "metadata": {},
   "outputs": [],
   "source": [
    "# ?pairs"
   ]
  },
  {
   "cell_type": "markdown",
   "metadata": {},
   "source": [
    "### Exact inference\n",
    "\n",
    "A naive exact inference algorithm for a discrete Bayesian network `bn`, which takes as input a set of query variable names `query`, and `evidence` associating values with observed variables. \n",
    "\n",
    "The algorithm computes a joint distribution over the query variables in the form of a factor. \n",
    "\n",
    "> We introduce the `ExactInference` type to allow for `infer` to be called with different inference methods, as shall be seen in the rest of this chapter.\n",
    "\n",
    "Notice how `ExactInference` parameter is not used in the function definition. It is solely used for multiple dispatch."
   ]
  },
  {
   "cell_type": "code",
   "execution_count": 9,
   "metadata": {},
   "outputs": [],
   "source": [
    "struct ExactInference end"
   ]
  },
  {
   "cell_type": "code",
   "execution_count": 10,
   "metadata": {},
   "outputs": [
    {
     "data": {
      "text/plain": [
       "infer (generic function with 1 method)"
      ]
     },
     "execution_count": 10,
     "metadata": {},
     "output_type": "execute_result"
    }
   ],
   "source": [
    "function infer(::ExactInference, bn, query, evidence)\n",
    "    ϕ = prod(bn.factors)\n",
    "    ϕ = condition(ϕ, evidence)\n",
    "    for name in setdiff(variablenames(ϕ), query)\n",
    "        ϕ = marginalize(ϕ, name)\n",
    "    end\n",
    "    normalize!(ϕ)\n",
    "end"
   ]
  },
  {
   "cell_type": "markdown",
   "metadata": {},
   "source": [
    "### Let's test on the example given in the book"
   ]
  },
  {
   "cell_type": "code",
   "execution_count": 32,
   "metadata": {},
   "outputs": [],
   "source": [
    "X = Variable(:x, 2)\n",
    "Y = Variable(:y, 2)\n",
    "Z = Variable(:z, 2)\n",
    "\n",
    "ϕ1 = Factor([X,Y], FactorTable(\n",
    "        (x=1, y=1) => 0.3,\n",
    "        (x=1, y=2) => 0.4,\n",
    "        (x=2, y=1) => 0.2,\n",
    "        (x=2, y=2) => 0.1,\n",
    "        ))\n",
    "\n",
    "ϕ2 = Factor([Y,Z], FactorTable(\n",
    "        (y=1, z=1) => 0.2,\n",
    "        (y=1, z=2) => 0.0,\n",
    "        (y=2, z=1) => 0.3,\n",
    "        (y=2, z=2) => 0.5,\n",
    "        ));"
   ]
  },
  {
   "cell_type": "markdown",
   "metadata": {},
   "source": [
    "#### Test factor product"
   ]
  },
  {
   "cell_type": "code",
   "execution_count": 33,
   "metadata": {},
   "outputs": [
    {
     "name": "stdout",
     "output_type": "stream",
     "text": [
      "Variable[Variable(:x, 2), Variable(:y, 2), Variable(:z, 2)]\n"
     ]
    },
    {
     "data": {
      "text/plain": [
       "Dict{Dict{Symbol, Int64}, Float64} with 8 entries:\n",
       "  Dict(:y=>1, :z=>1, :x=>1) => 0.06\n",
       "  Dict(:y=>1, :z=>1, :x=>2) => 0.04\n",
       "  Dict(:y=>1, :z=>2, :x=>1) => 0.0\n",
       "  Dict(:y=>2, :z=>2, :x=>1) => 0.2\n",
       "  Dict(:y=>2, :z=>1, :x=>2) => 0.03\n",
       "  Dict(:y=>1, :z=>2, :x=>2) => 0.0\n",
       "  Dict(:y=>2, :z=>2, :x=>2) => 0.05\n",
       "  Dict(:y=>2, :z=>1, :x=>1) => 0.12"
      ]
     },
     "execution_count": 33,
     "metadata": {},
     "output_type": "execute_result"
    }
   ],
   "source": [
    "result = ϕ1 * ϕ2\n",
    "println(result.vars)\n",
    "result.table"
   ]
  },
  {
   "cell_type": "markdown",
   "metadata": {},
   "source": [
    "#### Test factor marginalization"
   ]
  },
  {
   "cell_type": "code",
   "execution_count": 63,
   "metadata": {},
   "outputs": [],
   "source": [
    "X = Variable(:x, 2)\n",
    "Y = Variable(:y, 2)\n",
    "Z = Variable(:z, 2)\n",
    "\n",
    "ϕ = Factor([X,Y,Z], FactorTable(\n",
    "        (x=1, y=1, z=1) => 0.08,\n",
    "        (x=1, y=1, z=2) => 0.31,\n",
    "        (x=1, y=2, z=1) => 0.09,\n",
    "        (x=1, y=2, z=2) => 0.37,\n",
    "        (x=2, y=1, z=1) => 0.01,\n",
    "        (x=2, y=1, z=2) => 0.05,\n",
    "        (x=2, y=2, z=1) => 0.02,\n",
    "        (x=2, y=2, z=2) => 0.07,\n",
    "        ));"
   ]
  },
  {
   "cell_type": "code",
   "execution_count": 64,
   "metadata": {},
   "outputs": [
    {
     "name": "stdout",
     "output_type": "stream",
     "text": [
      "Variable[Variable(:x, 2), Variable(:z, 2)]\n"
     ]
    },
    {
     "data": {
      "text/plain": [
       "Dict{Dict{Symbol, Int64}, Float64} with 4 entries:\n",
       "  Dict(:z=>2, :x=>2) => 0.12\n",
       "  Dict(:z=>2, :x=>1) => 0.68\n",
       "  Dict(:z=>1, :x=>1) => 0.17\n",
       "  Dict(:z=>1, :x=>2) => 0.03"
      ]
     },
     "execution_count": 64,
     "metadata": {},
     "output_type": "execute_result"
    }
   ],
   "source": [
    "result = marginalize(ϕ, Y.name)\n",
    "println(result.vars)\n",
    "result.table"
   ]
  },
  {
   "cell_type": "markdown",
   "metadata": {},
   "source": [
    "#### Test factor conditioning"
   ]
  },
  {
   "cell_type": "code",
   "execution_count": 65,
   "metadata": {},
   "outputs": [
    {
     "name": "stdout",
     "output_type": "stream",
     "text": [
      "Variable[Variable(:x, 2), Variable(:z, 2)]\n"
     ]
    },
    {
     "data": {
      "text/plain": [
       "Dict{Dict{Symbol, Int64}, Float64} with 4 entries:\n",
       "  Dict(:z=>2, :x=>2) => 0.07\n",
       "  Dict(:z=>2, :x=>1) => 0.37\n",
       "  Dict(:z=>1, :x=>1) => 0.09\n",
       "  Dict(:z=>1, :x=>2) => 0.02"
      ]
     },
     "execution_count": 65,
     "metadata": {},
     "output_type": "execute_result"
    }
   ],
   "source": [
    "result = condition(ϕ, :y, 2.0)\n",
    "println(result.vars)\n",
    "result.table"
   ]
  },
  {
   "cell_type": "code",
   "execution_count": 66,
   "metadata": {},
   "outputs": [
    {
     "name": "stdout",
     "output_type": "stream",
     "text": [
      "Variable[Variable(:z, 2)]\n"
     ]
    },
    {
     "data": {
      "text/plain": [
       "Dict{Dict{Symbol, Int64}, Float64} with 2 entries:\n",
       "  Dict(:z=>1) => 0.09\n",
       "  Dict(:z=>2) => 0.37"
      ]
     },
     "execution_count": 66,
     "metadata": {},
     "output_type": "execute_result"
    }
   ],
   "source": [
    "result = condition(ϕ, (y=2,x=1))\n",
    "println(result.vars)\n",
    "result.table"
   ]
  },
  {
   "cell_type": "code",
   "execution_count": 67,
   "metadata": {},
   "outputs": [
    {
     "data": {
      "text/plain": [
       "Factor(Variable[Variable(:y, 2), Variable(:z, 2)], Dict(Dict(:y => 2, :z => 2) => 0.37, Dict(:y => 1, :z => 1) => 0.08, Dict(:y => 1, :z => 2) => 0.31, Dict(:y => 2, :z => 1) => 0.09))"
      ]
     },
     "execution_count": 67,
     "metadata": {},
     "output_type": "execute_result"
    }
   ],
   "source": [
    "condition(ϕ, (g=2,x=1))"
   ]
  },
  {
   "cell_type": "markdown",
   "metadata": {},
   "source": [
    "### Inference in Naive Bayes models\n",
    "\n",
    "![](./assets/ex_3.3.png)\n",
    "\n",
    "> We have to specify the prior $P(C)$ and the class-conditional distributions $P(O_i|C)$\n",
    "\n",
    "> Our classification task involves computing the conditional probability $P(c | o_{1:n})$\n",
    "\n",
    "$$P(c | o_{1:n}) = \\frac{P(c, o_{1:n})}{P(o_{1:n})}$$\n",
    "\n",
    "We can compute the denominator by marginalizing the joint distribution. The denominator is not a function of $C$ and can therefore be treated as a constant. Thus we can write\n",
    "\n",
    "$$P(c | o_{1:n}) \\propto P(c, o_{1:n})$$"
   ]
  },
  {
   "cell_type": "markdown",
   "metadata": {},
   "source": [
    "### Sum-product variable elimination\n",
    "\n",
    "Consider the below figure:\n",
    "\n",
    "![](./assets/ex_2.5.png)\n",
    "\n",
    "Let's say we want to compute the distribution $P(B | d^1, c^1)$\n",
    "\n",
    "The conditional probability distributions associated with the nodes in the network can be __represented__ by the following factors:\n",
    "\n",
    "$$ϕ_1(B), ϕ_2(S), ϕ_3(E,B,S), ϕ_4(D,E), ϕ_5(C,E)$$\n",
    "\n",
    "Because $D$ and $C$ are observed variables, the last two factors can be replaced with $φ_6(E)$ and $φ_7(E)$ by setting the evidence $D = 1$ and $C = 1$.\n",
    "\n",
    "We eliminate $E$ then $S$:\n",
    "\n",
    "$$φ_8(B,S) = ∑_e φ_3(e,B,S)φ_6(e)φ_7(e)$$\n",
    "$$φ_9(B) = ∑φ_2(s)φ_8(B,s)$$\n",
    "\n",
    "Finally we take the product of $φ_9(B)$ and $φ_1(B)$ and normalize it to get $P(B|d^1,c^1)$\n",
    "\n",
    "__Previous way__: Taking the product of all factors then marginalizing\n",
    "\n",
    "$$ P(B | d^1,c^1) ∝ ∑_s ∑_e φ_1(B)φ_2(s)φ_3(e | B,s)φ_4(d^1 | e)φ_5(c^1 | e) $$\n",
    "\n",
    "\n",
    "__Sum product way__:\n",
    "\n",
    "$$ P(B | d^1, c^1) ∝ φ_1(B) ∑_s( φ_2(s) ∑_e (φ_3(e | B, s) φ_4(d^1 | e) φ_5(c^1 | e)) )$$"
   ]
  },
  {
   "cell_type": "code",
   "execution_count": 74,
   "metadata": {},
   "outputs": [
    {
     "data": {
      "text/plain": [
       "infer (generic function with 2 methods)"
      ]
     },
     "execution_count": 74,
     "metadata": {},
     "output_type": "execute_result"
    }
   ],
   "source": [
    "struct VariableElimination\n",
    "    ordering # array of variable indices\n",
    "end\n",
    "\n",
    "function infer(M::VariableElimination, bn, query, evidence)\n",
    "    ϕs_after_evidence = [condition(ϕ, evidence) for ϕ in bn.factors]\n",
    "    for index in M.ordering\n",
    "        name = bn.vars[index].name\n",
    "        if name ∉ query\n",
    "            indices_containing_name = findall(ϕ -> in_scope(name, ϕ), ϕs_after_evidence)\n",
    "            if !isempty(indices_containing_name)\n",
    "                ϕ = prod(ϕs_after_evidence[indices_containing_name])\n",
    "                deleteat!(ϕs_after_evidence, indices_containing_name)\n",
    "                ϕ_after_marginalizing = marginalize(ϕ, name)\n",
    "                push!(ϕs_after_evidence, ϕ_after_marginalizing)\n",
    "            end\n",
    "        end\n",
    "    end\n",
    "    normalize!(prod(ϕs_after_evidence))\n",
    "end\n",
    "        "
   ]
  },
  {
   "cell_type": "code",
   "execution_count": 75,
   "metadata": {},
   "outputs": [],
   "source": [
    "# ?deleteat!"
   ]
  },
  {
   "cell_type": "code",
   "execution_count": 76,
   "metadata": {},
   "outputs": [],
   "source": [
    "# ?findall"
   ]
  },
  {
   "cell_type": "markdown",
   "metadata": {},
   "source": [
    "### Let's test the new `infer` function"
   ]
  },
  {
   "cell_type": "code",
   "execution_count": 77,
   "metadata": {},
   "outputs": [],
   "source": [
    "B = Variable(:b, 2)\n",
    "S = Variable(:s, 2)\n",
    "E = Variable(:e, 2)\n",
    "D = Variable(:d, 2)\n",
    "C = Variable(:c, 2)\n",
    "\n",
    "vars = [B,S,E,D,C]\n",
    "\n",
    "factorB = Factor([B], FactorTable((b=1,)=>0.99, (b=2,)=>0.01))\n",
    "factorS = Factor([S], FactorTable((s=1,)=>0.98, (s=2,)=>0.02))\n",
    "factorE = Factor([B,S,E], FactorTable(\n",
    "        (e=1,b=1,s=1) => 0.90,\n",
    "        (e=1,b=1,s=2) => 0.04,\n",
    "        (e=1,b=2,s=1) => 0.05,\n",
    "        (e=1,b=2,s=2) => 0.01,\n",
    "        (e=2,b=1,s=1) => 0.10,\n",
    "        (e=2,b=1,s=2) => 0.96,\n",
    "        (e=2,b=2,s=1) => 0.95,\n",
    "        (e=2,b=2,s=2) => 0.99,\n",
    "        ))\n",
    "factorD = Factor([D,E], FactorTable(\n",
    "        (d=1,e=1) => 0.96,\n",
    "        (d=1,e=2) => 0.03,\n",
    "        (d=2,e=1) => 0.04,\n",
    "        (d=2,e=2) => 0.97,\n",
    "        ))\n",
    "factorC = Factor([C,E], FactorTable(\n",
    "        (c=1,e=1) => 0.98,\n",
    "        (c=1,e=2) => 0.01,\n",
    "        (c=2,e=1) => 0.02,\n",
    "        (c=2,e=2) => 0.99,\n",
    "        ))\n",
    "\n",
    "graph = SimpleDiGraph(5)\n",
    "\n",
    "add_edge!(graph, 1, 3)\n",
    "add_edge!(graph, 2, 3)\n",
    "add_edge!(graph, 3, 4)\n",
    "add_edge!(graph, 3, 5)\n",
    "\n",
    "bn = BayesianNetwork(vars, [factorB, factorS, factorE, factorD, factorC], graph);"
   ]
  },
  {
   "cell_type": "code",
   "execution_count": 80,
   "metadata": {},
   "outputs": [
    {
     "name": "stdout",
     "output_type": "stream",
     "text": [
      "Variable[Variable(:b, 2)]\n"
     ]
    },
    {
     "data": {
      "text/plain": [
       "Dict{Dict{Symbol, Int64}, Float64} with 2 entries:\n",
       "  Dict(:b=>2) => 0.0753055\n",
       "  Dict(:b=>1) => 0.924695"
      ]
     },
     "execution_count": 80,
     "metadata": {},
     "output_type": "execute_result"
    }
   ],
   "source": [
    "M = VariableElimination([3,2]) # eliminate E then S\n",
    "evidence = (d=2,c=2)\n",
    "factor = infer(M, bn, [B.name], evidence)\n",
    "println(factor.vars)\n",
    "factor.table"
   ]
  },
  {
   "cell_type": "markdown",
   "metadata": {},
   "source": [
    "### Direct sampling\n",
    "\n",
    "Idea: Random samples from the joint distribution are used to arrive at a probability estimate.\n",
    "\n",
    "Suppose we want to infer $P(b^1 | d^1, c^1)$ from a set of `n` samples from the joint distribution `P(b,s,e,d,c)`. The direct sample estimate is:\n",
    "\n",
    "![](./assets/direct_sampling_1.png)\n",
    "\n",
    "The first step involves finding a topological sort of the nodes in the Bayesian network. A topological sort always exists, but it may not be unique.\n",
    "\n",
    "Once we have a topological sort, we can begin sampling from the conditional probability distributions."
   ]
  },
  {
   "cell_type": "code",
   "execution_count": 81,
   "metadata": {},
   "outputs": [],
   "source": [
    "function Base.rand(ϕ::Factor)\n",
    "    # the idea is to return a random assignment from ϕ\n",
    "    # the assignment is chosen based on the `random_number`\n",
    "    # note that this will result in assignments with high probability being returned more often\n",
    "    random_number = rand()\n",
    "    total_prob = sum(values(ϕ.table))\n",
    "    total = 0.0\n",
    "    for (assignment, prob) in ϕ.table\n",
    "        total += prob\n",
    "        if total >= random_number\n",
    "            return assignment\n",
    "        end\n",
    "    end\n",
    "    return Assignment()\n",
    "end"
   ]
  },
  {
   "cell_type": "code",
   "execution_count": 83,
   "metadata": {},
   "outputs": [
    {
     "data": {
      "text/plain": [
       "{5, 4} directed simple Int64 graph"
      ]
     },
     "execution_count": 83,
     "metadata": {},
     "output_type": "execute_result"
    }
   ],
   "source": [
    "bn.graph"
   ]
  },
  {
   "cell_type": "code",
   "execution_count": 86,
   "metadata": {},
   "outputs": [
    {
     "data": {
      "text/plain": [
       "5-element Vector{Int64}:\n",
       " 2\n",
       " 1\n",
       " 3\n",
       " 5\n",
       " 4"
      ]
     },
     "execution_count": 86,
     "metadata": {},
     "output_type": "execute_result"
    }
   ],
   "source": [
    "topological_sort_by_dfs(bn.graph)"
   ]
  },
  {
   "cell_type": "code",
   "execution_count": 114,
   "metadata": {},
   "outputs": [],
   "source": [
    "function Base.rand(bn::BayesianNetwork)\n",
    "    output = Assignment()\n",
    "    for i in topological_sort_by_dfs(bn.graph)\n",
    "        variable, ϕ = bn.vars[i].name, bn.factors[i]\n",
    "        random_assignment_from_factor = rand(condition(ϕ, output))\n",
    "        output[variable] = random_assignment_from_factor[variable]\n",
    "    end\n",
    "    return output\n",
    "end"
   ]
  },
  {
   "cell_type": "code",
   "execution_count": 90,
   "metadata": {},
   "outputs": [
    {
     "data": {
      "text/plain": [
       "infer (generic function with 3 methods)"
      ]
     },
     "execution_count": 90,
     "metadata": {},
     "output_type": "execute_result"
    }
   ],
   "source": [
    "struct DirectSampling\n",
    "    m #number of samples\n",
    "end\n",
    "\n",
    "function infer(M::DirectSampling, bn, query, evidence)\n",
    "    table = FactorTable()\n",
    "    for i in 1:(M.m)\n",
    "        assignment = rand(bn)\n",
    "        if all(assignment[k] == v for (k,v) in pairs(evidence))\n",
    "            sub_assignment = select(assignment, query)\n",
    "            table[sub_assignment] = get(table, sub_assignment, 0) + 1\n",
    "        end\n",
    "    end\n",
    "    vars = filter(v -> v.name ∈ query, bn.vars)\n",
    "    return normalize!(Factor(vars, table))\n",
    "end"
   ]
  },
  {
   "cell_type": "code",
   "execution_count": 118,
   "metadata": {},
   "outputs": [
    {
     "data": {
      "text/plain": [
       "Factor(Variable[Variable(:b, 2)], Dict(Dict(:b => 2) => 0.16666666666666666, Dict(:b => 1) => 0.8333333333333334))"
      ]
     },
     "execution_count": 118,
     "metadata": {},
     "output_type": "execute_result"
    }
   ],
   "source": [
    "infer(DirectSampling(100), bn, [B.name], (d=2, c=2))"
   ]
  },
  {
   "cell_type": "code",
   "execution_count": 119,
   "metadata": {},
   "outputs": [
    {
     "data": {
      "text/plain": [
       "Factor(Variable[Variable(:b, 2)], Dict(Dict(:b => 2) => 0.08064516129032258, Dict(:b => 1) => 0.9193548387096774))"
      ]
     },
     "execution_count": 119,
     "metadata": {},
     "output_type": "execute_result"
    }
   ],
   "source": [
    "infer(DirectSampling(1000), bn, [B.name], (d=2, c=2))"
   ]
  },
  {
   "cell_type": "code",
   "execution_count": 120,
   "metadata": {},
   "outputs": [
    {
     "data": {
      "text/plain": [
       "Factor(Variable[Variable(:b, 2)], Dict(Dict(:b => 2) => 0.08067226890756303, Dict(:b => 1) => 0.9193277310924369))"
      ]
     },
     "execution_count": 120,
     "metadata": {},
     "output_type": "execute_result"
    }
   ],
   "source": [
    "infer(DirectSampling(10000), bn, [B.name], (d=2, c=2))"
   ]
  },
  {
   "cell_type": "code",
   "execution_count": 122,
   "metadata": {},
   "outputs": [
    {
     "data": {
      "text/plain": [
       "Factor(Variable[Variable(:b, 2)], Dict(Dict(:b => 2) => 0.0759514571121935, Dict(:b => 1) => 0.9240485428878065))"
      ]
     },
     "execution_count": 122,
     "metadata": {},
     "output_type": "execute_result"
    }
   ],
   "source": [
    "infer(DirectSampling(100000), bn, [B.name], (d=2, c=2))"
   ]
  },
  {
   "cell_type": "code",
   "execution_count": null,
   "metadata": {},
   "outputs": [],
   "source": []
  }
 ],
 "metadata": {
  "kernelspec": {
   "display_name": "Julia 1.6.0",
   "language": "julia",
   "name": "julia-1.6"
  },
  "language_info": {
   "file_extension": ".jl",
   "mimetype": "application/julia",
   "name": "julia",
   "version": "1.6.0"
  }
 },
 "nbformat": 4,
 "nbformat_minor": 4
}
