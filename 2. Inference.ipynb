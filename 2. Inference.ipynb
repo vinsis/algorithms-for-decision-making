{
 "cells": [
  {
   "cell_type": "markdown",
   "metadata": {},
   "source": [
    "# Inference in Bayesian networks\n",
    "\n",
    "We can implement exact inference using factors. Recall that factors represent discrete multivariate distributions. We use the following three operations on factors to achieve this:\n",
    "\n",
    "#### 1. Factor product\n",
    "We use the factor product to combine two factors to produce a larger factor whose scope is the combined scope of the input factors. If we have $φ(X, Y)$ and $ψ(Y, Z)$, then $φ · ψ$ will be over $X$, $Y$, and $Z$ with $(φ · ψ)(x, y, z) = φ(x, y)ψ(y, z)$. \n",
    "\n",
    "#### 2. Factor marginalization\n",
    "We use factor marginalization to sum out a particular variable from the entire factor table, removing it from the resulting scope.\n",
    "\n",
    "#### 3. Factor conditioning\n",
    "We use factor conditioning with respect to some evidence to remove any rows in the table inconsistent with that evidence."
   ]
  },
  {
   "cell_type": "markdown",
   "metadata": {},
   "source": [
    "### Let's implement the code from last notebook (`1. Representations`) so we can reuse it"
   ]
  },
  {
   "cell_type": "code",
   "execution_count": 8,
   "metadata": {},
   "outputs": [
    {
     "data": {
      "text/plain": [
       "select (generic function with 1 method)"
      ]
     },
     "execution_count": 8,
     "metadata": {},
     "output_type": "execute_result"
    }
   ],
   "source": [
    "struct Variable\n",
    "    name::Symbol\n",
    "    m::Int\n",
    "end\n",
    "\n",
    "const Assignment = Dict{Symbol, Int}\n",
    "const FactorTable = Dict{Assignment, Float64}\n",
    "\n",
    "struct Factor\n",
    "    vars::Vector{Variable}\n",
    "    table::FactorTable\n",
    "end\n",
    "\n",
    "Base.Dict{Symbol, T}(a::NamedTuple) where T = \n",
    "    Dict{Symbol, T}( k=>v for (k,v) in zip(keys(a), values(a)) )\n",
    "\n",
    "Base.convert(::Type{Dict{Symbol, T}}, a::NamedTuple) where T = \n",
    "    Dict{Symbol, T}(a)\n",
    "\n",
    "Base.isequal(a::Dict{Symbol, T}, b::NamedTuple) where T = \n",
    "    length(a) == length(b) &&\n",
    "    all(a[k] == v for (k,v) in zip(keys(b), values(b)))\n",
    "\n",
    "variablenames(ϕ::Factor) = [var.name for var in ϕ.vars]\n",
    "\n",
    "select(a::Assignment, varnames::Vector{Symbol}) = \n",
    "    Assignment( n => a[n] for n in varnames )"
   ]
  },
  {
   "cell_type": "code",
   "execution_count": 7,
   "metadata": {},
   "outputs": [
    {
     "data": {
      "text/plain": [
       "assignments (generic function with 1 method)"
      ]
     },
     "execution_count": 7,
     "metadata": {},
     "output_type": "execute_result"
    }
   ],
   "source": [
    "import Base.Iterators: product\n",
    "\n",
    "function assignments(vars::AbstractVector{Variable})\n",
    "    names = [var.name for var in vars]\n",
    "    matrix_of_assignments = [Assignment(name => p for (name, p) in zip(names, p)) \n",
    "        for p in product((1:var.m for var in vars)...)]\n",
    "    vec(matrix_of_assignments)\n",
    "end"
   ]
  },
  {
   "cell_type": "code",
   "execution_count": 21,
   "metadata": {},
   "outputs": [],
   "source": [
    "using LightGraphs\n",
    "\n",
    "function normalize!(ϕ::Factor)\n",
    "    z = sum(p for (a,p) in ϕ.table)\n",
    "    for (a,p) in ϕ.table\n",
    "        ϕ.table[a] = p/z\n",
    "    end\n",
    "    ϕ\n",
    "end\n",
    "\n",
    "struct BayesianNetwork\n",
    "    vars::Vector{Variable}\n",
    "    factors::Vector{Factor}\n",
    "    graph::SimpleDiGraph{Int64}\n",
    "end"
   ]
  },
  {
   "cell_type": "code",
   "execution_count": 10,
   "metadata": {},
   "outputs": [
    {
     "name": "stdout",
     "output_type": "stream",
     "text": [
      "search: \u001b[0m\u001b[1mm\u001b[22m\u001b[0m\u001b[1me\u001b[22m\u001b[0m\u001b[1mr\u001b[22m\u001b[0m\u001b[1mg\u001b[22m\u001b[0m\u001b[1me\u001b[22m \u001b[0m\u001b[1mm\u001b[22m\u001b[0m\u001b[1me\u001b[22m\u001b[0m\u001b[1mr\u001b[22m\u001b[0m\u001b[1mg\u001b[22m\u001b[0m\u001b[1me\u001b[22m! \u001b[0m\u001b[1mm\u001b[22m\u001b[0m\u001b[1me\u001b[22m\u001b[0m\u001b[1mr\u001b[22m\u001b[0m\u001b[1mg\u001b[22m\u001b[0m\u001b[1me\u001b[22mwith \u001b[0m\u001b[1mm\u001b[22m\u001b[0m\u001b[1me\u001b[22m\u001b[0m\u001b[1mr\u001b[22m\u001b[0m\u001b[1mg\u001b[22m\u001b[0m\u001b[1me\u001b[22mwith! \u001b[0m\u001b[1mM\u001b[22m\u001b[0m\u001b[1me\u001b[22m\u001b[0m\u001b[1mr\u001b[22m\u001b[0m\u001b[1mg\u001b[22m\u001b[0m\u001b[1me\u001b[22mSort\n",
      "\n"
     ]
    },
    {
     "data": {
      "text/latex": [
       "\\begin{verbatim}\n",
       "merge(d::AbstractDict, others::AbstractDict...)\n",
       "\\end{verbatim}\n",
       "Construct a merged collection from the given collections. If necessary, the types of the resulting collection will be promoted to accommodate the types of the merged collections. If the same key is present in another collection, the value for that key will be the value it has in the last collection listed. See also \\href{@ref}{\\texttt{mergewith}} for custom handling of values with the same key.\n",
       "\n",
       "\\section{Examples}\n",
       "\\begin{verbatim}\n",
       "julia> a = Dict(\"foo\" => 0.0, \"bar\" => 42.0)\n",
       "Dict{String, Float64} with 2 entries:\n",
       "  \"bar\" => 42.0\n",
       "  \"foo\" => 0.0\n",
       "\n",
       "julia> b = Dict(\"baz\" => 17, \"bar\" => 4711)\n",
       "Dict{String, Int64} with 2 entries:\n",
       "  \"bar\" => 4711\n",
       "  \"baz\" => 17\n",
       "\n",
       "julia> merge(a, b)\n",
       "Dict{String, Float64} with 3 entries:\n",
       "  \"bar\" => 4711.0\n",
       "  \"baz\" => 17.0\n",
       "  \"foo\" => 0.0\n",
       "\n",
       "julia> merge(b, a)\n",
       "Dict{String, Float64} with 3 entries:\n",
       "  \"bar\" => 42.0\n",
       "  \"baz\" => 17.0\n",
       "  \"foo\" => 0.0\n",
       "\\end{verbatim}\n",
       "\\rule{\\textwidth}{1pt}\n",
       "\\begin{verbatim}\n",
       "merge(a::NamedTuple, bs::NamedTuple...)\n",
       "\\end{verbatim}\n",
       "Construct a new named tuple by merging two or more existing ones, in a left-associative manner. Merging proceeds left-to-right, between pairs of named tuples, and so the order of fields present in both the leftmost and rightmost named tuples take the same position as they are found in the leftmost named tuple. However, values are taken from matching fields in the rightmost named tuple that contains that field. Fields present in only the rightmost named tuple of a pair are appended at the end. A fallback is implemented for when only a single named tuple is supplied, with signature \\texttt{merge(a::NamedTuple)}.\n",
       "\n",
       "\\begin{quote}\n",
       "\\textbf{compat}\n",
       "\n",
       "Julia 1.1\n",
       "\n",
       "Merging 3 or more \\texttt{NamedTuple} requires at least Julia 1.1.\n",
       "\n",
       "\\end{quote}\n",
       "\\section{Examples}\n",
       "\\begin{verbatim}\n",
       "julia> merge((a=1, b=2, c=3), (b=4, d=5))\n",
       "(a = 1, b = 4, c = 3, d = 5)\n",
       "\\end{verbatim}\n",
       "\\begin{verbatim}\n",
       "julia> merge((a=1, b=2), (b=3, c=(d=1,)), (c=(d=2,),))\n",
       "(a = 1, b = 3, c = (d = 2,))\n",
       "\\end{verbatim}\n",
       "\\rule{\\textwidth}{1pt}\n",
       "\\begin{verbatim}\n",
       "merge(a::NamedTuple, iterable)\n",
       "\\end{verbatim}\n",
       "Interpret an iterable of key-value pairs as a named tuple, and perform a merge.\n",
       "\n",
       "\\begin{verbatim}\n",
       "julia> merge((a=1, b=2, c=3), [:b=>4, :d=>5])\n",
       "(a = 1, b = 4, c = 3, d = 5)\n",
       "\\end{verbatim}\n"
      ],
      "text/markdown": [
       "```\n",
       "merge(d::AbstractDict, others::AbstractDict...)\n",
       "```\n",
       "\n",
       "Construct a merged collection from the given collections. If necessary, the types of the resulting collection will be promoted to accommodate the types of the merged collections. If the same key is present in another collection, the value for that key will be the value it has in the last collection listed. See also [`mergewith`](@ref) for custom handling of values with the same key.\n",
       "\n",
       "# Examples\n",
       "\n",
       "```jldoctest\n",
       "julia> a = Dict(\"foo\" => 0.0, \"bar\" => 42.0)\n",
       "Dict{String, Float64} with 2 entries:\n",
       "  \"bar\" => 42.0\n",
       "  \"foo\" => 0.0\n",
       "\n",
       "julia> b = Dict(\"baz\" => 17, \"bar\" => 4711)\n",
       "Dict{String, Int64} with 2 entries:\n",
       "  \"bar\" => 4711\n",
       "  \"baz\" => 17\n",
       "\n",
       "julia> merge(a, b)\n",
       "Dict{String, Float64} with 3 entries:\n",
       "  \"bar\" => 4711.0\n",
       "  \"baz\" => 17.0\n",
       "  \"foo\" => 0.0\n",
       "\n",
       "julia> merge(b, a)\n",
       "Dict{String, Float64} with 3 entries:\n",
       "  \"bar\" => 42.0\n",
       "  \"baz\" => 17.0\n",
       "  \"foo\" => 0.0\n",
       "```\n",
       "\n",
       "---\n",
       "\n",
       "```\n",
       "merge(a::NamedTuple, bs::NamedTuple...)\n",
       "```\n",
       "\n",
       "Construct a new named tuple by merging two or more existing ones, in a left-associative manner. Merging proceeds left-to-right, between pairs of named tuples, and so the order of fields present in both the leftmost and rightmost named tuples take the same position as they are found in the leftmost named tuple. However, values are taken from matching fields in the rightmost named tuple that contains that field. Fields present in only the rightmost named tuple of a pair are appended at the end. A fallback is implemented for when only a single named tuple is supplied, with signature `merge(a::NamedTuple)`.\n",
       "\n",
       "!!! compat \"Julia 1.1\"\n",
       "    Merging 3 or more `NamedTuple` requires at least Julia 1.1.\n",
       "\n",
       "\n",
       "# Examples\n",
       "\n",
       "```jldoctest\n",
       "julia> merge((a=1, b=2, c=3), (b=4, d=5))\n",
       "(a = 1, b = 4, c = 3, d = 5)\n",
       "```\n",
       "\n",
       "```jldoctest\n",
       "julia> merge((a=1, b=2), (b=3, c=(d=1,)), (c=(d=2,),))\n",
       "(a = 1, b = 3, c = (d = 2,))\n",
       "```\n",
       "\n",
       "---\n",
       "\n",
       "```\n",
       "merge(a::NamedTuple, iterable)\n",
       "```\n",
       "\n",
       "Interpret an iterable of key-value pairs as a named tuple, and perform a merge.\n",
       "\n",
       "```jldoctest\n",
       "julia> merge((a=1, b=2, c=3), [:b=>4, :d=>5])\n",
       "(a = 1, b = 4, c = 3, d = 5)\n",
       "```\n"
      ],
      "text/plain": [
       "\u001b[36m  merge(d::AbstractDict, others::AbstractDict...)\u001b[39m\n",
       "\n",
       "  Construct a merged collection from the given collections. If necessary, the\n",
       "  types of the resulting collection will be promoted to accommodate the types\n",
       "  of the merged collections. If the same key is present in another collection,\n",
       "  the value for that key will be the value it has in the last collection\n",
       "  listed. See also \u001b[36mmergewith\u001b[39m for custom handling of values with the same key.\n",
       "\n",
       "\u001b[1m  Examples\u001b[22m\n",
       "\u001b[1m  ≡≡≡≡≡≡≡≡≡≡\u001b[22m\n",
       "\n",
       "\u001b[36m  julia> a = Dict(\"foo\" => 0.0, \"bar\" => 42.0)\u001b[39m\n",
       "\u001b[36m  Dict{String, Float64} with 2 entries:\u001b[39m\n",
       "\u001b[36m    \"bar\" => 42.0\u001b[39m\n",
       "\u001b[36m    \"foo\" => 0.0\u001b[39m\n",
       "\u001b[36m  \u001b[39m\n",
       "\u001b[36m  julia> b = Dict(\"baz\" => 17, \"bar\" => 4711)\u001b[39m\n",
       "\u001b[36m  Dict{String, Int64} with 2 entries:\u001b[39m\n",
       "\u001b[36m    \"bar\" => 4711\u001b[39m\n",
       "\u001b[36m    \"baz\" => 17\u001b[39m\n",
       "\u001b[36m  \u001b[39m\n",
       "\u001b[36m  julia> merge(a, b)\u001b[39m\n",
       "\u001b[36m  Dict{String, Float64} with 3 entries:\u001b[39m\n",
       "\u001b[36m    \"bar\" => 4711.0\u001b[39m\n",
       "\u001b[36m    \"baz\" => 17.0\u001b[39m\n",
       "\u001b[36m    \"foo\" => 0.0\u001b[39m\n",
       "\u001b[36m  \u001b[39m\n",
       "\u001b[36m  julia> merge(b, a)\u001b[39m\n",
       "\u001b[36m  Dict{String, Float64} with 3 entries:\u001b[39m\n",
       "\u001b[36m    \"bar\" => 42.0\u001b[39m\n",
       "\u001b[36m    \"baz\" => 17.0\u001b[39m\n",
       "\u001b[36m    \"foo\" => 0.0\u001b[39m\n",
       "\n",
       "  ────────────────────────────────────────────────────────────────────────────\n",
       "\n",
       "\u001b[36m  merge(a::NamedTuple, bs::NamedTuple...)\u001b[39m\n",
       "\n",
       "  Construct a new named tuple by merging two or more existing ones, in a\n",
       "  left-associative manner. Merging proceeds left-to-right, between pairs of\n",
       "  named tuples, and so the order of fields present in both the leftmost and\n",
       "  rightmost named tuples take the same position as they are found in the\n",
       "  leftmost named tuple. However, values are taken from matching fields in the\n",
       "  rightmost named tuple that contains that field. Fields present in only the\n",
       "  rightmost named tuple of a pair are appended at the end. A fallback is\n",
       "  implemented for when only a single named tuple is supplied, with signature\n",
       "  \u001b[36mmerge(a::NamedTuple)\u001b[39m.\n",
       "\n",
       "\u001b[39m\u001b[1m  │ \u001b[22m\u001b[39m\u001b[1mJulia 1.1\u001b[22m\n",
       "\u001b[39m\u001b[1m  │\u001b[22m\n",
       "\u001b[39m\u001b[1m  │\u001b[22m  Merging 3 or more \u001b[36mNamedTuple\u001b[39m requires at least Julia 1.1.\n",
       "\n",
       "\u001b[1m  Examples\u001b[22m\n",
       "\u001b[1m  ≡≡≡≡≡≡≡≡≡≡\u001b[22m\n",
       "\n",
       "\u001b[36m  julia> merge((a=1, b=2, c=3), (b=4, d=5))\u001b[39m\n",
       "\u001b[36m  (a = 1, b = 4, c = 3, d = 5)\u001b[39m\n",
       "\n",
       "\u001b[36m  julia> merge((a=1, b=2), (b=3, c=(d=1,)), (c=(d=2,),))\u001b[39m\n",
       "\u001b[36m  (a = 1, b = 3, c = (d = 2,))\u001b[39m\n",
       "\n",
       "  ────────────────────────────────────────────────────────────────────────────\n",
       "\n",
       "\u001b[36m  merge(a::NamedTuple, iterable)\u001b[39m\n",
       "\n",
       "  Interpret an iterable of key-value pairs as a named tuple, and perform a\n",
       "  merge.\n",
       "\n",
       "\u001b[36m  julia> merge((a=1, b=2, c=3), [:b=>4, :d=>5])\u001b[39m\n",
       "\u001b[36m  (a = 1, b = 4, c = 3, d = 5)\u001b[39m"
      ]
     },
     "execution_count": 10,
     "metadata": {},
     "output_type": "execute_result"
    }
   ],
   "source": [
    "?merge"
   ]
  },
  {
   "cell_type": "markdown",
   "metadata": {},
   "source": [
    "### 1. Factor product"
   ]
  },
  {
   "cell_type": "code",
   "execution_count": 70,
   "metadata": {},
   "outputs": [],
   "source": [
    "function Base.:*(ϕ::Factor, ψ::Factor)\n",
    "    ϕ_names = variablenames(ϕ)\n",
    "    ψ_names = variablenames(ψ)\n",
    "    ψ_only = setdiff(ψ.vars, ϕ.vars)\n",
    "    final_table = FactorTable()\n",
    "    for (ϕ_assignment, ϕ_prob) in ϕ.table\n",
    "        for ψ_only_assignment in assignments(ψ_only)\n",
    "            complete_assignment = merge(ϕ_assignment, ψ_only_assignment)\n",
    "            ψ_assignment = select(complete_assignment, ψ_names)\n",
    "            final_table[complete_assignment] = ϕ_prob * get(ψ.table, ψ_assignment, 0.0)\n",
    "        end\n",
    "    end\n",
    "    vars = vcat(ϕ.vars, ψ_only)\n",
    "    Factor(vars, final_table)\n",
    "end"
   ]
  },
  {
   "cell_type": "markdown",
   "metadata": {},
   "source": [
    "### 2. Factor marginalization"
   ]
  },
  {
   "cell_type": "code",
   "execution_count": 91,
   "metadata": {},
   "outputs": [
    {
     "data": {
      "text/plain": [
       "marginalize (generic function with 1 method)"
      ]
     },
     "execution_count": 91,
     "metadata": {},
     "output_type": "execute_result"
    }
   ],
   "source": [
    "function marginalize(ϕ::Factor, name::Symbol)\n",
    "    final_table = FactorTable()\n",
    "    for (assignment, prob) in ϕ.table\n",
    "        assignment_without_name = delete!(copy(assignment), name)\n",
    "        final_table[assignment_without_name] = get(final_table, assignment_without_name, 0.0) + prob\n",
    "    end\n",
    "    final_variables = filter(v -> v.name != name, ϕ.vars)\n",
    "    Factor(final_variables, final_table)\n",
    "end"
   ]
  },
  {
   "cell_type": "markdown",
   "metadata": {},
   "source": [
    "### 3. Factor conditioning\n",
    "\n",
    "Two methods for factor conditioning given some evidence. \n",
    "\n",
    "i) The first takes a factor $φ$ and returns a new factor whose table entries are consistent with the variable named `name` having value `value`. \n",
    "\n",
    "ii) The second takes a factor $φ$ and applies evidence in the form of a named tuple. The `in_scope` method returns `true` if a variable named `name` is within the scope of the factor $φ$."
   ]
  },
  {
   "cell_type": "code",
   "execution_count": 92,
   "metadata": {},
   "outputs": [
    {
     "data": {
      "text/plain": [
       "condition (generic function with 2 methods)"
      ]
     },
     "execution_count": 92,
     "metadata": {},
     "output_type": "execute_result"
    }
   ],
   "source": [
    "in_scope(name::Symbol, ϕ::Factor) = any(name == v.name for v in ϕ.vars)\n",
    "\n",
    "function condition(ϕ::Factor, name::Symbol, value)\n",
    "    if !in_scope(name, ϕ)\n",
    "        ϕ\n",
    "    end\n",
    "    final_table = FactorTable()\n",
    "    for (assignment, prob) in ϕ.table\n",
    "        if assignment[name] == value\n",
    "            final_table[delete!(copy(assignment), name)] = prob\n",
    "        end\n",
    "    end\n",
    "    final_variables = filter(v -> v.name != name, ϕ.vars)\n",
    "    Factor(final_variables, final_table)\n",
    "end\n",
    "\n",
    "function condition(ϕ::Factor, evidence)\n",
    "    for (name, value) in pairs(evidence)\n",
    "        ϕ = condition(ϕ, name, value)\n",
    "    end\n",
    "    ϕ\n",
    "end"
   ]
  },
  {
   "cell_type": "code",
   "execution_count": 16,
   "metadata": {},
   "outputs": [
    {
     "name": "stdout",
     "output_type": "stream",
     "text": [
      "search: \u001b[0m\u001b[1mp\u001b[22m\u001b[0m\u001b[1ma\u001b[22m\u001b[0m\u001b[1mi\u001b[22m\u001b[0m\u001b[1mr\u001b[22m\u001b[0m\u001b[1ms\u001b[22m u\u001b[0m\u001b[1mp\u001b[22mperc\u001b[0m\u001b[1ma\u001b[22msef\u001b[0m\u001b[1mi\u001b[22m\u001b[0m\u001b[1mr\u001b[22m\u001b[0m\u001b[1ms\u001b[22mt \u001b[0m\u001b[1mP\u001b[22m\u001b[0m\u001b[1ma\u001b[22m\u001b[0m\u001b[1mi\u001b[22m\u001b[0m\u001b[1mr\u001b[22m \u001b[0m\u001b[1mp\u001b[22m\u001b[0m\u001b[1ma\u001b[22mrt\u001b[0m\u001b[1mi\u001b[22malso\u001b[0m\u001b[1mr\u001b[22mt \u001b[0m\u001b[1mp\u001b[22m\u001b[0m\u001b[1ma\u001b[22mrt\u001b[0m\u001b[1mi\u001b[22malso\u001b[0m\u001b[1mr\u001b[22mt! \u001b[0m\u001b[1mp\u001b[22m\u001b[0m\u001b[1ma\u001b[22mrt\u001b[0m\u001b[1mi\u001b[22malso\u001b[0m\u001b[1mr\u001b[22mtperm\n",
      "\n"
     ]
    },
    {
     "data": {
      "text/latex": [
       "\\begin{verbatim}\n",
       "pairs(collection)\n",
       "\\end{verbatim}\n",
       "Return an iterator over \\texttt{key => value} pairs for any collection that maps a set of keys to a set of values. This includes arrays, where the keys are the array indices.\n",
       "\n",
       "\\rule{\\textwidth}{1pt}\n",
       "\\begin{verbatim}\n",
       "pairs(IndexLinear(), A)\n",
       "pairs(IndexCartesian(), A)\n",
       "pairs(IndexStyle(A), A)\n",
       "\\end{verbatim}\n",
       "An iterator that accesses each element of the array \\texttt{A}, returning \\texttt{i => x}, where \\texttt{i} is the index for the element and \\texttt{x = A[i]}. Identical to \\texttt{pairs(A)}, except that the style of index can be selected. Also similar to \\texttt{enumerate(A)}, except \\texttt{i} will be a valid index for \\texttt{A}, while \\texttt{enumerate} always counts from 1 regardless of the indices of \\texttt{A}.\n",
       "\n",
       "Specifying \\href{@ref}{\\texttt{IndexLinear()}} ensures that \\texttt{i} will be an integer; specifying \\href{@ref}{\\texttt{IndexCartesian()}} ensures that \\texttt{i} will be a \\href{@ref}{\\texttt{CartesianIndex}}; specifying \\texttt{IndexStyle(A)} chooses whichever has been defined as the native indexing style for array \\texttt{A}.\n",
       "\n",
       "Mutation of the bounds of the underlying array will invalidate this iterator.\n",
       "\n",
       "\\section{Examples}\n",
       "\\begin{verbatim}\n",
       "julia> A = [\"a\" \"d\"; \"b\" \"e\"; \"c\" \"f\"];\n",
       "\n",
       "julia> for (index, value) in pairs(IndexStyle(A), A)\n",
       "           println(\"$index $value\")\n",
       "       end\n",
       "1 a\n",
       "2 b\n",
       "3 c\n",
       "4 d\n",
       "5 e\n",
       "6 f\n",
       "\n",
       "julia> S = view(A, 1:2, :);\n",
       "\n",
       "julia> for (index, value) in pairs(IndexStyle(S), S)\n",
       "           println(\"$index $value\")\n",
       "       end\n",
       "CartesianIndex(1, 1) a\n",
       "CartesianIndex(2, 1) b\n",
       "CartesianIndex(1, 2) d\n",
       "CartesianIndex(2, 2) e\n",
       "\\end{verbatim}\n",
       "See also: \\href{@ref}{\\texttt{IndexStyle}}, \\href{@ref}{\\texttt{axes}}.\n",
       "\n"
      ],
      "text/markdown": [
       "```\n",
       "pairs(collection)\n",
       "```\n",
       "\n",
       "Return an iterator over `key => value` pairs for any collection that maps a set of keys to a set of values. This includes arrays, where the keys are the array indices.\n",
       "\n",
       "---\n",
       "\n",
       "```\n",
       "pairs(IndexLinear(), A)\n",
       "pairs(IndexCartesian(), A)\n",
       "pairs(IndexStyle(A), A)\n",
       "```\n",
       "\n",
       "An iterator that accesses each element of the array `A`, returning `i => x`, where `i` is the index for the element and `x = A[i]`. Identical to `pairs(A)`, except that the style of index can be selected. Also similar to `enumerate(A)`, except `i` will be a valid index for `A`, while `enumerate` always counts from 1 regardless of the indices of `A`.\n",
       "\n",
       "Specifying [`IndexLinear()`](@ref) ensures that `i` will be an integer; specifying [`IndexCartesian()`](@ref) ensures that `i` will be a [`CartesianIndex`](@ref); specifying `IndexStyle(A)` chooses whichever has been defined as the native indexing style for array `A`.\n",
       "\n",
       "Mutation of the bounds of the underlying array will invalidate this iterator.\n",
       "\n",
       "# Examples\n",
       "\n",
       "```jldoctest\n",
       "julia> A = [\"a\" \"d\"; \"b\" \"e\"; \"c\" \"f\"];\n",
       "\n",
       "julia> for (index, value) in pairs(IndexStyle(A), A)\n",
       "           println(\"$index $value\")\n",
       "       end\n",
       "1 a\n",
       "2 b\n",
       "3 c\n",
       "4 d\n",
       "5 e\n",
       "6 f\n",
       "\n",
       "julia> S = view(A, 1:2, :);\n",
       "\n",
       "julia> for (index, value) in pairs(IndexStyle(S), S)\n",
       "           println(\"$index $value\")\n",
       "       end\n",
       "CartesianIndex(1, 1) a\n",
       "CartesianIndex(2, 1) b\n",
       "CartesianIndex(1, 2) d\n",
       "CartesianIndex(2, 2) e\n",
       "```\n",
       "\n",
       "See also: [`IndexStyle`](@ref), [`axes`](@ref).\n"
      ],
      "text/plain": [
       "\u001b[36m  pairs(collection)\u001b[39m\n",
       "\n",
       "  Return an iterator over \u001b[36mkey => value\u001b[39m pairs for any collection that maps a\n",
       "  set of keys to a set of values. This includes arrays, where the keys are the\n",
       "  array indices.\n",
       "\n",
       "  ────────────────────────────────────────────────────────────────────────────\n",
       "\n",
       "\u001b[36m  pairs(IndexLinear(), A)\u001b[39m\n",
       "\u001b[36m  pairs(IndexCartesian(), A)\u001b[39m\n",
       "\u001b[36m  pairs(IndexStyle(A), A)\u001b[39m\n",
       "\n",
       "  An iterator that accesses each element of the array \u001b[36mA\u001b[39m, returning \u001b[36mi => x\u001b[39m,\n",
       "  where \u001b[36mi\u001b[39m is the index for the element and \u001b[36mx = A[i]\u001b[39m. Identical to \u001b[36mpairs(A)\u001b[39m,\n",
       "  except that the style of index can be selected. Also similar to\n",
       "  \u001b[36menumerate(A)\u001b[39m, except \u001b[36mi\u001b[39m will be a valid index for \u001b[36mA\u001b[39m, while \u001b[36menumerate\u001b[39m always\n",
       "  counts from 1 regardless of the indices of \u001b[36mA\u001b[39m.\n",
       "\n",
       "  Specifying \u001b[36mIndexLinear()\u001b[39m ensures that \u001b[36mi\u001b[39m will be an integer; specifying\n",
       "  \u001b[36mIndexCartesian()\u001b[39m ensures that \u001b[36mi\u001b[39m will be a \u001b[36mCartesianIndex\u001b[39m; specifying\n",
       "  \u001b[36mIndexStyle(A)\u001b[39m chooses whichever has been defined as the native indexing\n",
       "  style for array \u001b[36mA\u001b[39m.\n",
       "\n",
       "  Mutation of the bounds of the underlying array will invalidate this\n",
       "  iterator.\n",
       "\n",
       "\u001b[1m  Examples\u001b[22m\n",
       "\u001b[1m  ≡≡≡≡≡≡≡≡≡≡\u001b[22m\n",
       "\n",
       "\u001b[36m  julia> A = [\"a\" \"d\"; \"b\" \"e\"; \"c\" \"f\"];\u001b[39m\n",
       "\u001b[36m  \u001b[39m\n",
       "\u001b[36m  julia> for (index, value) in pairs(IndexStyle(A), A)\u001b[39m\n",
       "\u001b[36m             println(\"$index $value\")\u001b[39m\n",
       "\u001b[36m         end\u001b[39m\n",
       "\u001b[36m  1 a\u001b[39m\n",
       "\u001b[36m  2 b\u001b[39m\n",
       "\u001b[36m  3 c\u001b[39m\n",
       "\u001b[36m  4 d\u001b[39m\n",
       "\u001b[36m  5 e\u001b[39m\n",
       "\u001b[36m  6 f\u001b[39m\n",
       "\u001b[36m  \u001b[39m\n",
       "\u001b[36m  julia> S = view(A, 1:2, :);\u001b[39m\n",
       "\u001b[36m  \u001b[39m\n",
       "\u001b[36m  julia> for (index, value) in pairs(IndexStyle(S), S)\u001b[39m\n",
       "\u001b[36m             println(\"$index $value\")\u001b[39m\n",
       "\u001b[36m         end\u001b[39m\n",
       "\u001b[36m  CartesianIndex(1, 1) a\u001b[39m\n",
       "\u001b[36m  CartesianIndex(2, 1) b\u001b[39m\n",
       "\u001b[36m  CartesianIndex(1, 2) d\u001b[39m\n",
       "\u001b[36m  CartesianIndex(2, 2) e\u001b[39m\n",
       "\n",
       "  See also: \u001b[36mIndexStyle\u001b[39m, \u001b[36maxes\u001b[39m."
      ]
     },
     "execution_count": 16,
     "metadata": {},
     "output_type": "execute_result"
    }
   ],
   "source": [
    "?pairs"
   ]
  },
  {
   "cell_type": "markdown",
   "metadata": {},
   "source": [
    "### Exact inference\n",
    "\n",
    "A naive exact inference algorithm for a discrete Bayesian network `bn`, which takes as input a set of query variable names `query`, and `evidence` associating values with observed variables. \n",
    "\n",
    "The algorithm computes a joint distribution over the query variables in the form of a factor. \n",
    "\n",
    "> We introduce the `ExactInference` type to allow for `infer` to be called with different inference methods, as shall be seen in the rest of this chapter.\n",
    "\n",
    "Notice how `ExactInference` parameter is not used in the function definition. It is solely used for multiple dispatch."
   ]
  },
  {
   "cell_type": "code",
   "execution_count": 19,
   "metadata": {},
   "outputs": [],
   "source": [
    "struct ExactInference end"
   ]
  },
  {
   "cell_type": "code",
   "execution_count": 23,
   "metadata": {},
   "outputs": [
    {
     "data": {
      "text/plain": [
       "infer (generic function with 1 method)"
      ]
     },
     "execution_count": 23,
     "metadata": {},
     "output_type": "execute_result"
    }
   ],
   "source": [
    "function infer(::ExactInference, bn, query, evidence)\n",
    "    ϕ = prod(bn.factors)\n",
    "    ϕ = condition(ϕ, evidence)\n",
    "    for name in setdiff(variablenames(ϕ), query)\n",
    "        ϕ = marginalize(ϕ, name)\n",
    "    end\n",
    "    normalize!(ϕ)\n",
    "end"
   ]
  },
  {
   "cell_type": "markdown",
   "metadata": {},
   "source": [
    "### Let's test on the example given in the book"
   ]
  },
  {
   "cell_type": "code",
   "execution_count": 27,
   "metadata": {},
   "outputs": [
    {
     "data": {
      "text/plain": [
       "Factor(Variable[Variable(:y, 2), Variable(:z, 2)], Dict(Dict(:y => 2, :z => 2) => 0.5, Dict(:y => 1, :z => 1) => 0.2, Dict(:y => 1, :z => 2) => 0.0, Dict(:y => 2, :z => 1) => 0.3))"
      ]
     },
     "execution_count": 27,
     "metadata": {},
     "output_type": "execute_result"
    }
   ],
   "source": [
    "X = Variable(:x, 2)\n",
    "Y = Variable(:y, 2)\n",
    "Z = Variable(:z, 2)\n",
    "\n",
    "ϕ1 = Factor([X,Y], FactorTable(\n",
    "        (x=1, y=1) => 0.3,\n",
    "        (x=1, y=2) => 0.4,\n",
    "        (x=2, y=1) => 0.2,\n",
    "        (x=2, y=2) => 0.1,\n",
    "        ))\n",
    "\n",
    "ϕ2 = Factor([Y,Z], FactorTable(\n",
    "        (y=1, z=1) => 0.2,\n",
    "        (y=1, z=2) => 0.0,\n",
    "        (y=2, z=1) => 0.3,\n",
    "        (y=2, z=2) => 0.5,\n",
    "        ))"
   ]
  },
  {
   "cell_type": "markdown",
   "metadata": {},
   "source": [
    "#### Test factor product"
   ]
  },
  {
   "cell_type": "code",
   "execution_count": 75,
   "metadata": {},
   "outputs": [
    {
     "name": "stdout",
     "output_type": "stream",
     "text": [
      "Variable[Variable(:x, 2), Variable(:y, 2), Variable(:z, 2)]\n"
     ]
    },
    {
     "data": {
      "text/plain": [
       "Dict{Dict{Symbol, Int64}, Float64} with 8 entries:\n",
       "  Dict(:y=>1, :z=>1, :x=>1) => 0.06\n",
       "  Dict(:y=>1, :z=>1, :x=>2) => 0.04\n",
       "  Dict(:y=>1, :z=>2, :x=>1) => 0.0\n",
       "  Dict(:y=>2, :z=>2, :x=>1) => 0.2\n",
       "  Dict(:y=>2, :z=>1, :x=>2) => 0.03\n",
       "  Dict(:y=>1, :z=>2, :x=>2) => 0.0\n",
       "  Dict(:y=>2, :z=>2, :x=>2) => 0.05\n",
       "  Dict(:y=>2, :z=>1, :x=>1) => 0.12"
      ]
     },
     "execution_count": 75,
     "metadata": {},
     "output_type": "execute_result"
    }
   ],
   "source": [
    "result = ϕ1 * ϕ2\n",
    "println(result.vars)\n",
    "result.table"
   ]
  },
  {
   "cell_type": "markdown",
   "metadata": {},
   "source": [
    "#### Test factor marginalization"
   ]
  },
  {
   "cell_type": "code",
   "execution_count": 95,
   "metadata": {},
   "outputs": [
    {
     "data": {
      "text/plain": [
       "Factor(Variable[Variable(:x, 2), Variable(:y, 2), Variable(:z, 2)], Dict(Dict(:y => 1, :z => 1, :x => 1) => 0.08, Dict(:y => 1, :z => 1, :x => 2) => 0.01, Dict(:y => 1, :z => 2, :x => 1) => 0.31, Dict(:y => 2, :z => 2, :x => 1) => 0.37, Dict(:y => 2, :z => 1, :x => 2) => 0.02, Dict(:y => 1, :z => 2, :x => 2) => 0.05, Dict(:y => 2, :z => 2, :x => 2) => 0.07, Dict(:y => 2, :z => 1, :x => 1) => 0.09))"
      ]
     },
     "execution_count": 95,
     "metadata": {},
     "output_type": "execute_result"
    }
   ],
   "source": [
    "X = Variable(:x, 2)\n",
    "Y = Variable(:y, 2)\n",
    "Z = Variable(:z, 2)\n",
    "\n",
    "ϕ = Factor([X,Y,Z], FactorTable(\n",
    "        (x=1, y=1, z=1) => 0.08,\n",
    "        (x=1, y=1, z=2) => 0.31,\n",
    "        (x=1, y=2, z=1) => 0.09,\n",
    "        (x=1, y=2, z=2) => 0.37,\n",
    "        (x=2, y=1, z=1) => 0.01,\n",
    "        (x=2, y=1, z=2) => 0.05,\n",
    "        (x=2, y=2, z=1) => 0.02,\n",
    "        (x=2, y=2, z=2) => 0.07,\n",
    "        ))"
   ]
  },
  {
   "cell_type": "code",
   "execution_count": 96,
   "metadata": {},
   "outputs": [
    {
     "name": "stdout",
     "output_type": "stream",
     "text": [
      "Variable[Variable(:x, 2), Variable(:z, 2)]\n"
     ]
    },
    {
     "data": {
      "text/plain": [
       "Dict{Dict{Symbol, Int64}, Float64} with 4 entries:\n",
       "  Dict(:z=>2, :x=>2) => 0.12\n",
       "  Dict(:z=>2, :x=>1) => 0.68\n",
       "  Dict(:z=>1, :x=>1) => 0.17\n",
       "  Dict(:z=>1, :x=>2) => 0.03"
      ]
     },
     "execution_count": 96,
     "metadata": {},
     "output_type": "execute_result"
    }
   ],
   "source": [
    "result = marginalize(ϕ, Y.name)\n",
    "println(result.vars)\n",
    "result.table"
   ]
  },
  {
   "cell_type": "markdown",
   "metadata": {},
   "source": [
    "#### Test factor conditioning"
   ]
  },
  {
   "cell_type": "code",
   "execution_count": 98,
   "metadata": {},
   "outputs": [
    {
     "name": "stdout",
     "output_type": "stream",
     "text": [
      "Variable[Variable(:x, 2), Variable(:z, 2)]\n"
     ]
    },
    {
     "data": {
      "text/plain": [
       "Dict{Dict{Symbol, Int64}, Float64} with 4 entries:\n",
       "  Dict(:z=>2, :x=>2) => 0.07\n",
       "  Dict(:z=>2, :x=>1) => 0.37\n",
       "  Dict(:z=>1, :x=>1) => 0.09\n",
       "  Dict(:z=>1, :x=>2) => 0.02"
      ]
     },
     "execution_count": 98,
     "metadata": {},
     "output_type": "execute_result"
    }
   ],
   "source": [
    "result = condition(ϕ, :y, 2.0)\n",
    "println(result.vars)\n",
    "result.table"
   ]
  },
  {
   "cell_type": "code",
   "execution_count": null,
   "metadata": {},
   "outputs": [],
   "source": []
  }
 ],
 "metadata": {
  "kernelspec": {
   "display_name": "Julia 1.6.0",
   "language": "julia",
   "name": "julia-1.6"
  },
  "language_info": {
   "file_extension": ".jl",
   "mimetype": "application/julia",
   "name": "julia",
   "version": "1.6.0"
  }
 },
 "nbformat": 4,
 "nbformat_minor": 4
}
